{
 "cells": [
  {
   "cell_type": "markdown",
   "metadata": {},
   "source": [
    "# Lab - Numpy in a nutshell"
   ]
  },
  {
   "cell_type": "markdown",
   "metadata": {},
   "source": [
    "## Introduction"
   ]
  },
  {
   "cell_type": "markdown",
   "metadata": {},
   "source": [
    "두 번째 LAB은 Numpy 입니다. Numpy 강의는 사실 그냥 보고만 있으면, 그렇게 어렵지 않게 이해할 수 있습니다. 그러나 실제로 문제를 풀다보면 잘 못하는 경우가 굉장히 많습니다. 그런 사태를 미연에 방지하기 위해 한번 도전해 보도록 합시다."
   ]
  },
  {
   "cell_type": "markdown",
   "metadata": {},
   "source": [
    "## numpy_lab.py 코드 구조"
   ]
  },
  {
   "cell_type": "markdown",
   "metadata": {},
   "source": [
    "본 Lab은 Numpy의 실행 방법을 이해하기 위해 9개의 함수를 작성해야 합니다. 각 함수별 구체적인 작성 방법은 아래와 같습니다. 단 본 랩은 for loop을 사용할 경우, 틀린 걸로 처리합니다. 반드시 numpy 로만 처리하시기 바랍니다."
   ]
  },
  {
   "cell_type": "code",
   "execution_count": 1,
   "metadata": {},
   "outputs": [],
   "source": [
    "import numpy as np"
   ]
  },
  {
   "cell_type": "markdown",
   "metadata": {},
   "source": [
    "### n_size_ndarray_creation"
   ]
  },
  {
   "cell_type": "markdown",
   "metadata": {},
   "source": [
    "- Template"
   ]
  },
  {
   "cell_type": "code",
   "execution_count": 2,
   "metadata": {},
   "outputs": [
    {
     "name": "stdout",
     "output_type": "stream",
     "text": [
      "[[ 0  1  2  3  4]\n",
      " [ 5  6  7  8  9]\n",
      " [10 11 12 13 14]\n",
      " [15 16 17 18 19]\n",
      " [20 21 22 23 24]]\n"
     ]
    }
   ],
   "source": [
    "def n_size_ndarray_creation(n, dtype=np.int):\n",
    "    return np.arange(n**2, dtype=dtype).reshape(n,n)\n",
    "\n",
    "\n",
    "# Test Code\n",
    "print(n_size_ndarray_creation(5)) \n",
    "\n",
    "# Expected value:\n",
    "# [[0. 0. 0. 0. 0.]\n",
    "#  [0. 0. 0. 0. 0.]\n",
    "#  [0. 0. 0. 0. 0.]\n",
    "#  [0. 0. 0. 0. 0.]\n",
    "#  [0. 0. 0. 0. 0.]]"
   ]
  },
  {
   "cell_type": "markdown",
   "metadata": {},
   "source": [
    "- 함수목적\n",
    "    - n의 제곱수로 2 dimentional array를 생성하는 ndarray."
   ]
  },
  {
   "cell_type": "markdown",
   "metadata": {},
   "source": [
    "- Args\n",
    "    - n: 생성하고자 하는 ndarray의 row와 column의 개수\n",
    "    - dtype: 생성하려는 ndarray의 data type (np.int)"
   ]
  },
  {
   "cell_type": "markdown",
   "metadata": {},
   "source": [
    "- Returns\n",
    "    - row와 column의 길이가 n인 two dimentional ndarray"
   ]
  },
  {
   "cell_type": "markdown",
   "metadata": {},
   "source": [
    "### zero_or_one_or_empty_ndarray"
   ]
  },
  {
   "cell_type": "markdown",
   "metadata": {},
   "source": [
    "- Template"
   ]
  },
  {
   "cell_type": "code",
   "execution_count": 3,
   "metadata": {},
   "outputs": [
    {
     "name": "stdout",
     "output_type": "stream",
     "text": [
      "[[1 1]\n",
      " [1 1]]\n",
      "[[-1152921504606846976  8070459316662957056                    5]\n",
      " [                   0                    0                    0]\n",
      " [-1152921504606846976 -1152921504606846976                    2]]\n"
     ]
    }
   ],
   "source": [
    "def zero_or_one_or_empty_ndarray(shape, type=0, dtype=np.int):\n",
    "    if type == 0:\n",
    "        X = np.zeros(shape, dtype=dtype)\n",
    "    elif type == 1:\n",
    "        X = np.ones(shape, dtype=dtype)\n",
    "    else:\n",
    "        X = np.empty(shape, dtype=dtype)\n",
    "    return X\n",
    "\n",
    "\n",
    "# Test Code\n",
    "print(zero_or_one_or_empty_ndarray(shape=(2,2), type=1))\n",
    "print(zero_or_one_or_empty_ndarray(shape=(3,3), type=99))"
   ]
  },
  {
   "cell_type": "markdown",
   "metadata": {},
   "source": [
    "- 함수목적\n",
    "    - shape이 지정된 크기의 ndarray를 생성, 이때 행렬의 element는 type에 따라 0, 1 또는 empty로 생성됨."
   ]
  },
  {
   "cell_type": "markdown",
   "metadata": {},
   "source": [
    "- Args\n",
    "    - shape: 생성할려는 ndarray의 shape\n",
    "    - type: 생성되는 element들의 값을 지정함0은 0, 1은 1, 99는 empty 타입으로 생성됨\n",
    "    - dtype: 생성하려는 ndarray의 data type (np.int)"
   ]
  },
  {
   "cell_type": "markdown",
   "metadata": {},
   "source": [
    "- Returns\n",
    "    - shape의 크기로 생성된 ndarray로 type에 따라 element의 내용이 변경됨"
   ]
  },
  {
   "cell_type": "markdown",
   "metadata": {},
   "source": [
    "- Examples\n",
    "\n",
    "~~~python\n",
    ">>> zero_or_one_or_empty_ndarray(shape=(2,2), type=1)\n",
    "array([[ 1,  1],\n",
    "        [ 1,  1]])\n",
    ">>> zero_or_one_or_empty_ndarray(shape=(3,3), type=99)\n",
    "#임의의수 생성\n",
    "array([[1773984320,        487, 1774114944],\n",
    "        [       487, 1947927088,          0],\n",
    "        [1947927088,          0, 1701605485]])\n",
    "~~~"
   ]
  },
  {
   "cell_type": "markdown",
   "metadata": {},
   "source": [
    "### change_shape_of_ndarray"
   ]
  },
  {
   "cell_type": "markdown",
   "metadata": {},
   "source": [
    "- Template"
   ]
  },
  {
   "cell_type": "code",
   "execution_count": 4,
   "metadata": {},
   "outputs": [
    {
     "name": "stdout",
     "output_type": "stream",
     "text": [
      "[1 1 1 ... 1 1 1]\n",
      "[[1 1]\n",
      " [1 1]\n",
      " [1 1]\n",
      " ...\n",
      " [1 1]\n",
      " [1 1]\n",
      " [1 1]]\n"
     ]
    }
   ],
   "source": [
    "def change_shape_of_ndarray(X, n_row):\n",
    "    return X.flatten() if n_row == 1 else X.reshape(n_row, -1)\n",
    "\n",
    "\n",
    "# Test Code\n",
    "X = np.ones((32,32), dtype=np.int)\n",
    "print(change_shape_of_ndarray(X, 1))\n",
    "print(change_shape_of_ndarray(X, 512))"
   ]
  },
  {
   "cell_type": "markdown",
   "metadata": {},
   "source": [
    "- 함수목적\n",
    "    - 입력된 ndarray X를 n_row의 값을 row의 개수로 지정한 matrix를 반환함.\n",
    "    - 이때 입력하는 X의 size는 2의 거듭제곱수로 전제함.\n",
    "    - 만약 n_row과 1일 때는 matrix가 아닌 vector로 반환함."
   ]
  },
  {
   "cell_type": "markdown",
   "metadata": {},
   "source": [
    "- Args\n",
    "    - X: 입력하는 ndarray\n",
    "    - n_row: 생성할려는 matrix의 row의 개수"
   ]
  },
  {
   "cell_type": "markdown",
   "metadata": {},
   "source": [
    "- Returns\n",
    "    - row의 개수가 n_row인 Matrix 또는 Vector\n",
    "    - n_row가 1이면 Vector 값으로 반환함"
   ]
  },
  {
   "cell_type": "markdown",
   "metadata": {},
   "source": [
    "- Examples\n",
    "\n",
    "~~~python\n",
    ">>> X = np.ones((32,32), dtype=np.int)\n",
    ">>> change_shape_of_ndarray(X, 1)\n",
    "array([1, 1, 1, ..., 1, 1, 1])\n",
    ">>> change_shape_of_ndarray(X, 512)\n",
    "array([[1, 1],\n",
    "       [1, 1],\n",
    "       [1, 1],\n",
    "       ...,\n",
    "       [1, 1],\n",
    "       [1, 1],\n",
    "       [1, 1]])\n",
    "~~~"
   ]
  },
  {
   "cell_type": "markdown",
   "metadata": {},
   "source": [
    "### concat_ndarray"
   ]
  },
  {
   "cell_type": "markdown",
   "metadata": {},
   "source": [
    "- Template"
   ]
  },
  {
   "cell_type": "code",
   "execution_count": 5,
   "metadata": {},
   "outputs": [
    {
     "name": "stdout",
     "output_type": "stream",
     "text": [
      "[[1 2]\n",
      " [3 4]\n",
      " [5 6]]\n",
      "False\n",
      "[[1 2 5 6 7]]\n",
      "False\n"
     ]
    }
   ],
   "source": [
    "def concat_ndarray(X_1, X_2, axis):\n",
    "    try:\n",
    "        if X_1.ndim == 1:\n",
    "            X_1 = X_1.reshape(1,-1)\n",
    "        if X_2.ndim == 1:\n",
    "            X_2 = X_2.reshape(1,-1)\n",
    "        return np.concatenate((X_1, X_2), axis)\n",
    "    except ValueError:\n",
    "        return False\n",
    "\n",
    "\n",
    "# Test Code\n",
    "a = np.array([[1, 2], [3, 4]])\n",
    "b = np.array([[5, 6]])\n",
    "print(concat_ndarray(a, b, 0))\n",
    "print(concat_ndarray(a, b, 1))\n",
    "\n",
    "a = np.array([1, 2])\n",
    "b = np.array([5, 6, 7])\n",
    "print(concat_ndarray(a, b, 1))\n",
    "print(concat_ndarray(a, b, 0))"
   ]
  },
  {
   "cell_type": "markdown",
   "metadata": {},
   "source": [
    "- 함수목적\n",
    "    - 입력된 ndarray X_1과 X_2를 axis로 입력된 축을 기준으로 통합하여 반환하는 함수\n",
    "    - X_1과 X_2는 matrix 또는 vector 임, 그러므로 vector 일 경우도 처리할 수 가 있어야 함\n",
    "    - axis를 기준으로 통합할 때, 통합이 불가능하면 False가 반환됨.\n",
    "    - 단 X_1과 X_2 Matrix, Vector 형태로 들어왔다면, Vector를 row가 1개인 Matrix로 변환하여 통합이 가능한지 확인할 것"
   ]
  },
  {
   "cell_type": "markdown",
   "metadata": {},
   "source": [
    "- Args\n",
    "    - X_1: 입력하는 ndarray\n",
    "    - X_2: 입력하는 ndarray\n",
    "    - axis: 통합의 기준이 되는 축 0 또는 1임"
   ]
  },
  {
   "cell_type": "markdown",
   "metadata": {},
   "source": [
    "- Returns\n",
    "    - X_1과 X_2과 통합된 matrix 타입의 ndarray"
   ]
  },
  {
   "cell_type": "markdown",
   "metadata": {},
   "source": [
    "Examples\n",
    "\n",
    "~~~python \n",
    ">>> a = np.array([[1, 2], [3, 4]])\n",
    ">>> b = np.array([[5, 6]])\n",
    ">>> concat_ndarray(a, b, 0)\n",
    "array([[1, 2],\n",
    "       [3, 4],\n",
    "       [5, 6]])\n",
    ">>> concat_ndarray(a, b, 1)\n",
    "False\n",
    ">>> a = np.array([1, 2])\n",
    ">>> b = np.array([5, 6, 7])\n",
    ">>> concat_ndarray(a, b, 1)\n",
    "array([[1, 2, 5, 6, 7]])\n",
    ">>> concat_ndarray(a, b, 0)\n",
    "False\n",
    "~~~"
   ]
  },
  {
   "cell_type": "markdown",
   "metadata": {},
   "source": [
    "### normalize_ndarray"
   ]
  },
  {
   "cell_type": "markdown",
   "metadata": {},
   "source": [
    "- Template"
   ]
  },
  {
   "cell_type": "code",
   "execution_count": 6,
   "metadata": {},
   "outputs": [
    {
     "name": "stdout",
     "output_type": "stream",
     "text": [
      "[[-1.593255   -1.3035723 ]\n",
      " [-1.0138896  -0.7242068 ]\n",
      " [-0.4345241  -0.14484136]\n",
      " [ 0.14484136  0.4345241 ]\n",
      " [ 0.7242068   1.0138896 ]\n",
      " [ 1.3035723   1.593255  ]]\n",
      "[[-1.  1.]\n",
      " [-1.  1.]\n",
      " [-1.  1.]\n",
      " [-1.  1.]\n",
      " [-1.  1.]\n",
      " [-1.  1.]]\n",
      "[[-1.46385 -1.46385]\n",
      " [-0.87831 -0.87831]\n",
      " [-0.29277 -0.29277]\n",
      " [ 0.29277  0.29277]\n",
      " [ 0.87831  0.87831]\n",
      " [ 1.46385  1.46385]]\n"
     ]
    }
   ],
   "source": [
    "def normalize_ndarray(X, axis=99, dtype=np.float32):\n",
    "    if axis == 99:\n",
    "        X_mean, X_std = X.mean(), X.std()\n",
    "    elif axis == 1:\n",
    "        X_mean, X_std = X.mean(axis).reshape(-1, 1), X.std(axis).reshape(-1, 1)\n",
    "    else:\n",
    "        X_mean, X_std = X.mean(axis), X.std(axis)\n",
    "    Normalize_X = (X - X_mean) / X_std\n",
    "    return Normalize_X\n",
    "\n",
    "\n",
    "# Test Code\n",
    "X = np.arange(12, dtype=np.float32).reshape(6,2)\n",
    "print(normalize_ndarray(X))\n",
    "print(normalize_ndarray(X, 1))\n",
    "print(normalize_ndarray(X, 0))"
   ]
  },
  {
   "cell_type": "markdown",
   "metadata": {},
   "source": [
    "- 함수목적\n",
    "    - 입력된 Matrix 또는 Vector를 ndarray X의 정규화된 값으로 변환하여 반환함\n",
    "    - 이때 정규화 변환 공식 Z = (X - X의평균) / X의 표준편차로 구성됨.\n",
    "    - X의 평균과 표준편차는 axis를 기준으로 axis 별로 산출됨.\n",
    "    - Matrix의 axis가 0 또는 1일 경우, row 또는 column별로 Z value를 산출함.\n",
    "    - axis가 99일 경우 전체 값에 대한 normalize 값을 구함."
   ]
  },
  {
   "cell_type": "markdown",
   "metadata": {},
   "source": [
    "- Args\n",
    "    - X: 입력하는 ndarray,\n",
    "    - axis: normalize를 구하는 기준이 되는 축으로 0, 1 또는 99임, 단 99는 axis 구분 없이 전체값으로 평균과 표준편차를 구함\n",
    "    - dtype: data type으로 np.float32로 구정"
   ]
  },
  {
   "cell_type": "markdown",
   "metadata": {},
   "source": [
    "- Returns\n",
    "    - 정규화된 ndarray"
   ]
  },
  {
   "cell_type": "markdown",
   "metadata": {},
   "source": [
    "- Examples\n",
    "\n",
    "~~~python \n",
    ">>> X = np.arange(12, dtype=np.float32).reshape(6,2)\n",
    ">>> normalize_ndarray(X)\n",
    "array([[-1.59325504, -1.3035723 ],\n",
    "       [-1.01388955, -0.72420681],\n",
    "       [-0.43452409, -0.14484136],\n",
    "       [ 0.14484136,  0.43452409],\n",
    "       [ 0.72420681,  1.01388955],\n",
    "       [ 1.3035723 ,  1.59325504]], dtype=float32)\n",
    ">>> normalize_ndarray(X, 1)\n",
    "array([[-1.,  1.],\n",
    "       [-1.,  1.],\n",
    "       [-1.,  1.],\n",
    "       [-1.,  1.],\n",
    "       [-1.,  1.],\n",
    "       [-1.,  1.]], dtype=float32)\n",
    ">>> normalize_ndarray(X, 0)\n",
    "array([[-1.46385002, -1.46385002],\n",
    "       [-0.87831002, -0.87831002],\n",
    "       [-0.29277   , -0.29277   ],\n",
    "       [ 0.29277   ,  0.29277   ],\n",
    "       [ 0.87831002,  0.87831002],\n",
    "       [ 1.46385002,  1.46385002]], dtype=float32)\n",
    "~~~"
   ]
  },
  {
   "cell_type": "markdown",
   "metadata": {},
   "source": [
    "### save_ndarray"
   ]
  },
  {
   "cell_type": "markdown",
   "metadata": {},
   "source": [
    "- Template"
   ]
  },
  {
   "cell_type": "code",
   "execution_count": 7,
   "metadata": {},
   "outputs": [
    {
     "name": "stdout",
     "output_type": "stream",
     "text": [
      "None\n"
     ]
    }
   ],
   "source": [
    "def save_ndarray(X, filename=\"test.npy\"):\n",
    "    return np.save(\"test\", X)\n",
    "\n",
    "\n",
    "# Test Code\n",
    "X = np.arange(32, dtype=np.float32).reshape(4, -1)\n",
    "filename = \"test.npy\"\n",
    "print(save_ndarray(X, filename))"
   ]
  },
  {
   "cell_type": "markdown",
   "metadata": {},
   "source": [
    "- 함수목적\n",
    "    - 입력된 ndarray X를 argument filename으로 저장함"
   ]
  },
  {
   "cell_type": "markdown",
   "metadata": {},
   "source": [
    "- Args\n",
    "    - X: 입력하는 ndarray\n",
    "    - filename: 저장할려는 파일이름"
   ]
  },
  {
   "cell_type": "markdown",
   "metadata": {},
   "source": [
    "- Examples\n",
    "\n",
    "~~~python\n",
    ">>> X = np.arange(32, dtype=np.float32).reshape(4, -1)\n",
    ">>> filename = \"test.npy\"\n",
    ">>> save_ndarray(X, filename) #test.npy 파일이 생성됨\n",
    "~~~"
   ]
  },
  {
   "cell_type": "markdown",
   "metadata": {},
   "source": [
    "### boolean_index"
   ]
  },
  {
   "cell_type": "markdown",
   "metadata": {},
   "source": [
    "- Template"
   ]
  },
  {
   "cell_type": "code",
   "execution_count": 8,
   "metadata": {},
   "outputs": [
    {
     "name": "stdout",
     "output_type": "stream",
     "text": [
      "[3.]\n",
      "[ 7.  8.  9. 10. 11. 12. 13. 14. 15. 16. 17. 18. 19. 20. 21. 22. 23. 24.\n",
      " 25. 26. 27. 28. 29. 30. 31.]\n"
     ]
    }
   ],
   "source": [
    "def boolean_index(X, condition):\n",
    "    return X[eval(str(\"X\") + condition)]\n",
    "\n",
    "\n",
    "# Test Code\n",
    "X = np.arange(32, dtype=np.float32).reshape(4, -1)\n",
    "print(boolean_index(X, \"== 3\"))\n",
    "\n",
    "X = np.arange(32, dtype=np.float32)\n",
    "print(boolean_index(X, \"> 6\"))"
   ]
  },
  {
   "cell_type": "markdown",
   "metadata": {},
   "source": [
    "- 함수목적\n",
    "    - 입력된 ndarray X를 String type의 condition 정보를 바탕으로 해당 컨디션에 해당하는 ndarray X의 index 번호를 반환함\n",
    "    - 단 이때, str type의 조건인 condition을 코드로 변환하기 위해서는 eval(str(\"X\") + condition)를 사용할 수 있음"
   ]
  },
  {
   "cell_type": "markdown",
   "metadata": {},
   "source": [
    "- Args\n",
    "    - X: 입력하는 ndarray\n",
    "    - condition: string type의 조건 (\">3\", \"== 5\", \"< 15\")"
   ]
  },
  {
   "cell_type": "markdown",
   "metadata": {},
   "source": [
    "- Returns\n",
    "    - 조건에 만족하는 ndarray X의 index"
   ]
  },
  {
   "cell_type": "markdown",
   "metadata": {},
   "source": [
    "- Examples\n",
    "\n",
    "~~~python \n",
    ">>> X = np.arange(32, dtype=np.float32).reshape(4, -1)\n",
    ">>> boolean_index(X, \"== 3\")\n",
    "(array([3]))\n",
    ">>> X = np.arange(32, dtype=np.float32)\n",
    ">>> boolean_index(X, \"> 6\")\n",
    "(array([ 7,  8,  9, 10, 11, 12, 13, 14, 15, 16, 17, 18, 19, 20, 21, 22,\n",
    "        23, 24, 25, 26, 27, 28, 29, 30, 31]),)\n",
    "~~~"
   ]
  },
  {
   "cell_type": "markdown",
   "metadata": {},
   "source": [
    "### find_nearest_value"
   ]
  },
  {
   "cell_type": "markdown",
   "metadata": {},
   "source": [
    "- Template"
   ]
  },
  {
   "cell_type": "code",
   "execution_count": 9,
   "metadata": {},
   "outputs": [
    {
     "name": "stdout",
     "output_type": "stream",
     "text": [
      "0.3006642702830524\n"
     ]
    }
   ],
   "source": [
    "def find_nearest_value(X, target_value):\n",
    "    return X[np.argmin(abs(X - target_value))]\n",
    "\n",
    "\n",
    "# Test Code\n",
    "X = np.random.uniform(0, 1, 100)\n",
    "target_value = 0.3\n",
    "print(find_nearest_value(X, target_value))"
   ]
  },
  {
   "cell_type": "markdown",
   "metadata": {},
   "source": [
    "- 함수목적\n",
    "    - 입력된 vector type의 ndarray X에서 target_value와 가장 차이가 작게나는 element를 찾아 리턴함\n",
    "    - 이때 X를 list로 변경하여 처리하는 것은 실패로 간주함."
   ]
  },
  {
   "cell_type": "markdown",
   "metadata": {},
   "source": [
    "- Args\n",
    "    - X: 입력하는 vector type의 ndarray\n",
    "    - target_value : 가장 유사한 값의 기준값이 되는 값"
   ]
  },
  {
   "cell_type": "markdown",
   "metadata": {},
   "source": [
    "- Returns\n",
    "    - target_value와 가장 유사한 값"
   ]
  },
  {
   "cell_type": "markdown",
   "metadata": {},
   "source": [
    "- Examples\n",
    "\n",
    "~~~python\n",
    ">>> X = np.random.uniform(0, 1, 100)\n",
    ">>> target_value = 0.3\n",
    ">>> find_nearest_value(X, target_value)\n",
    "0.29260674329282488 # 출력되는 값은 random 하게 바뀜\n",
    "~~~"
   ]
  },
  {
   "cell_type": "markdown",
   "metadata": {},
   "source": [
    "### get_n_largest_values"
   ]
  },
  {
   "cell_type": "markdown",
   "metadata": {},
   "source": [
    "- Template"
   ]
  },
  {
   "cell_type": "code",
   "execution_count": 10,
   "metadata": {},
   "outputs": [
    {
     "name": "stdout",
     "output_type": "stream",
     "text": [
      "[0.98657334 0.98172854 0.97505196]\n",
      "[0.98657334 0.98172854 0.97505196 0.97111675 0.96483629]\n"
     ]
    }
   ],
   "source": [
    "def get_n_largest_values(X, n):\n",
    "    return X[np.argsort(X)[::-1][:n]]\n",
    "\n",
    "\n",
    "# Test Code\n",
    "X = np.random.uniform(0, 1, 100)\n",
    "print(get_n_largest_values(X, 3))\n",
    "print(get_n_largest_values(X, 5))"
   ]
  },
  {
   "cell_type": "markdown",
   "metadata": {},
   "source": [
    "arg가 들어가는 함수들은 다 output이 index값으로 나온다. agrsort는 default로 quick sort를 사용하여 오름차순으로 index를 반환하고, 여기에 큰 index 순서대로 알고 싶기 때문에 [::-1]을 하면 역순으로 나온다. 그리고 우리가 최종적으로 받고 싶은 개수인 n을 뒤에다가 [:n]으로 적어주면 되는 것이다."
   ]
  },
  {
   "cell_type": "markdown",
   "metadata": {},
   "source": [
    "- 함수목적\n",
    "    - 입력된 vector type의 ndarray X에서 큰 숫자 순서대로 n개의 값을 반환함."
   ]
  },
  {
   "cell_type": "markdown",
   "metadata": {},
   "source": [
    "- Args\n",
    "    - X: vector type의 ndarray\n",
    "    - n: 반환할려는 element의 개수"
   ]
  },
  {
   "cell_type": "markdown",
   "metadata": {},
   "source": [
    "- Returns\n",
    "    - ndarray X의 element중 큰 숫자 순서대로 n개 값이 반환됨 ndarray"
   ]
  },
  {
   "cell_type": "markdown",
   "metadata": {},
   "source": [
    "- Examples\n",
    "\n",
    "~~~python \n",
    ">>> X = np.random.uniform(0, 1, 100)\n",
    ">>> get_n_largest_values(X, 3)\n",
    "array([ 0.98935239,  0.98494578,  0.98317255])\n",
    ">>> get_n_largest_values(X, 5)\n",
    "array([ 0.98935239,  0.98494578,  0.98317255,  0.96859596,  0.96485649])\n",
    "# 출력되는 값은 random 하게 바뀜\n",
    "~~~"
   ]
  }
 ],
 "metadata": {
  "kernelspec": {
   "display_name": "Python 3",
   "language": "python",
   "name": "python3"
  },
  "language_info": {
   "codemirror_mode": {
    "name": "ipython",
    "version": 3
   },
   "file_extension": ".py",
   "mimetype": "text/x-python",
   "name": "python",
   "nbconvert_exporter": "python",
   "pygments_lexer": "ipython3",
   "version": "3.6.5"
  }
 },
 "nbformat": 4,
 "nbformat_minor": 2
}
