{
 "cells": [
  {
   "cell_type": "markdown",
   "metadata": {},
   "source": [
    "# Lab - Basic Linear Algebra with Pythonic Code"
   ]
  },
  {
   "cell_type": "markdown",
   "metadata": {},
   "source": [
    "## Introduction"
   ]
  },
  {
   "cell_type": "markdown",
   "metadata": {},
   "source": [
    "이번 Lab은 이번 주차에 간단한 선형대수의 수식들을 python code로 작성하는 것이 목적입니다. 2016년 3월 12일 인간계 바둑왕 이세돌을 완벽하게 이긴 알파고를 만든 기반엔 강화학습이라는 알고리즘이 존재하고 이 알고리즘을 이해하기 위한 Notation으로 기초적인 수학을 알고 있어야 합니다. 지금 당장 알파고처럼 어려운 프로그램을 만들자는 얘기는 아닙니다. 알파고와 같은 복잡한 수학 공식을 프로그래밍 언어로 만들기 전에 수업 시간에 배운 간단한 선형대수의 표현들을 코드로 변환하는 법을 먼저 배울 것 입니다."
   ]
  },
  {
   "cell_type": "markdown",
   "metadata": {},
   "source": [
    "## basic_linear_algebra.py 코드 구조"
   ]
  },
  {
   "cell_type": "markdown",
   "metadata": {},
   "source": [
    "본 Lab은 vector와 matrix의 기초적인 연산을 수행하는 12개의 함수를 작성합니다. 각각 함수의 기능과 역할은 아래와 같다. 비교적 문제가 평이하니 웃는 얼굴로 도전해보기 바랍니다. 단 저희가 one line code available이라고 작성한 코드의 경우 list comprehenstion으로 표현이 가능하니 for loop이 아닌 pythonic code로 도전해보시기 바랍니다."
   ]
  },
  {
   "cell_type": "markdown",
   "metadata": {},
   "source": [
    "### vector_size_check (one line code available)\n",
    "\n",
    "- vector 간 덧셈 또는 뺄셈 연산을 할 때, 연산이 가능한 사이즈인지를 확인하여 가능 여부를 True 또는 False로 반환함"
   ]
  },
  {
   "cell_type": "code",
   "execution_count": 1,
   "metadata": {},
   "outputs": [
    {
     "name": "stdout",
     "output_type": "stream",
     "text": [
      "True\n",
      "True\n",
      "False\n"
     ]
    }
   ],
   "source": [
    "def vector_size_check(*vector_variables):\n",
    "    return all(len(vector_variables[0]) == len(vector) for vector in vector_variables[1:])\n",
    "\n",
    "\n",
    "# 실행결과\n",
    "print(vector_size_check([1,2,3], [2,3,4], [5,6,7])) # Expected value: True\n",
    "print(vector_size_check([1,3], [2,4], [6,7])) # Expected value: True\n",
    "print(vector_size_check([1,3,4], [4], [6,7])) # Expected value: False"
   ]
  },
  {
   "cell_type": "markdown",
   "metadata": {},
   "source": [
    "### vector_addition (one line code available)\n",
    "\n",
    "- vector간 덧셈을 실행하여 결과를 반환함, 단 입력되는 vector의 갯수와 크기는 일정하지 않음"
   ]
  },
  {
   "cell_type": "code",
   "execution_count": 2,
   "metadata": {},
   "outputs": [
    {
     "name": "stdout",
     "output_type": "stream",
     "text": [
      "[9, 14]\n",
      "[15, 16]\n"
     ]
    },
    {
     "ename": "ArithmeticError",
     "evalue": "",
     "output_type": "error",
     "traceback": [
      "\u001b[0;31m---------------------------------------------------------------------------\u001b[0m",
      "\u001b[0;31mArithmeticError\u001b[0m                           Traceback (most recent call last)",
      "\u001b[0;32m<ipython-input-2-408bb187f0b0>\u001b[0m in \u001b[0;36m<module>\u001b[0;34m()\u001b[0m\n\u001b[1;32m      8\u001b[0m \u001b[0mprint\u001b[0m\u001b[0;34m(\u001b[0m\u001b[0mvector_addition\u001b[0m\u001b[0;34m(\u001b[0m\u001b[0;34m[\u001b[0m\u001b[0;36m1\u001b[0m\u001b[0;34m,\u001b[0m \u001b[0;36m3\u001b[0m\u001b[0;34m]\u001b[0m\u001b[0;34m,\u001b[0m \u001b[0;34m[\u001b[0m\u001b[0;36m2\u001b[0m\u001b[0;34m,\u001b[0m \u001b[0;36m4\u001b[0m\u001b[0;34m]\u001b[0m\u001b[0;34m,\u001b[0m \u001b[0;34m[\u001b[0m\u001b[0;36m6\u001b[0m\u001b[0;34m,\u001b[0m \u001b[0;36m7\u001b[0m\u001b[0;34m]\u001b[0m\u001b[0;34m)\u001b[0m\u001b[0;34m)\u001b[0m \u001b[0;31m# Expected value: [9, 14]\u001b[0m\u001b[0;34m\u001b[0m\u001b[0m\n\u001b[1;32m      9\u001b[0m \u001b[0mprint\u001b[0m\u001b[0;34m(\u001b[0m\u001b[0mvector_addition\u001b[0m\u001b[0;34m(\u001b[0m\u001b[0;34m[\u001b[0m\u001b[0;36m1\u001b[0m\u001b[0;34m,\u001b[0m \u001b[0;36m5\u001b[0m\u001b[0;34m]\u001b[0m\u001b[0;34m,\u001b[0m \u001b[0;34m[\u001b[0m\u001b[0;36m10\u001b[0m\u001b[0;34m,\u001b[0m \u001b[0;36m4\u001b[0m\u001b[0;34m]\u001b[0m\u001b[0;34m,\u001b[0m \u001b[0;34m[\u001b[0m\u001b[0;36m4\u001b[0m\u001b[0;34m,\u001b[0m \u001b[0;36m7\u001b[0m\u001b[0;34m]\u001b[0m\u001b[0;34m)\u001b[0m\u001b[0;34m)\u001b[0m \u001b[0;31m# Expected value: [15, 16]\u001b[0m\u001b[0;34m\u001b[0m\u001b[0m\n\u001b[0;32m---> 10\u001b[0;31m \u001b[0mprint\u001b[0m\u001b[0;34m(\u001b[0m\u001b[0mvector_addition\u001b[0m\u001b[0;34m(\u001b[0m\u001b[0;34m[\u001b[0m\u001b[0;36m1\u001b[0m\u001b[0;34m,\u001b[0m \u001b[0;36m3\u001b[0m\u001b[0;34m,\u001b[0m \u001b[0;36m4\u001b[0m\u001b[0;34m]\u001b[0m\u001b[0;34m,\u001b[0m \u001b[0;34m[\u001b[0m\u001b[0;36m4\u001b[0m\u001b[0;34m]\u001b[0m\u001b[0;34m,\u001b[0m \u001b[0;34m[\u001b[0m\u001b[0;36m6\u001b[0m\u001b[0;34m,\u001b[0m\u001b[0;36m7\u001b[0m\u001b[0;34m]\u001b[0m\u001b[0;34m)\u001b[0m\u001b[0;34m)\u001b[0m \u001b[0;31m# Expected value: ArithmeticError\u001b[0m\u001b[0;34m\u001b[0m\u001b[0m\n\u001b[0m",
      "\u001b[0;32m<ipython-input-2-408bb187f0b0>\u001b[0m in \u001b[0;36mvector_addition\u001b[0;34m(*vector_variables)\u001b[0m\n\u001b[1;32m      1\u001b[0m \u001b[0;32mdef\u001b[0m \u001b[0mvector_addition\u001b[0m\u001b[0;34m(\u001b[0m\u001b[0;34m*\u001b[0m\u001b[0mvector_variables\u001b[0m\u001b[0;34m)\u001b[0m\u001b[0;34m:\u001b[0m\u001b[0;34m\u001b[0m\u001b[0m\n\u001b[1;32m      2\u001b[0m     \u001b[0;32mif\u001b[0m \u001b[0mvector_size_check\u001b[0m\u001b[0;34m(\u001b[0m\u001b[0;34m*\u001b[0m\u001b[0mvector_variables\u001b[0m\u001b[0;34m)\u001b[0m \u001b[0;34m==\u001b[0m \u001b[0;32mFalse\u001b[0m\u001b[0;34m:\u001b[0m\u001b[0;34m\u001b[0m\u001b[0m\n\u001b[0;32m----> 3\u001b[0;31m         \u001b[0;32mraise\u001b[0m \u001b[0mArithmeticError\u001b[0m\u001b[0;34m\u001b[0m\u001b[0m\n\u001b[0m\u001b[1;32m      4\u001b[0m     \u001b[0;32mreturn\u001b[0m \u001b[0;34m[\u001b[0m\u001b[0msum\u001b[0m\u001b[0;34m(\u001b[0m\u001b[0melements\u001b[0m\u001b[0;34m)\u001b[0m \u001b[0;32mfor\u001b[0m \u001b[0melements\u001b[0m \u001b[0;32min\u001b[0m \u001b[0mzip\u001b[0m\u001b[0;34m(\u001b[0m\u001b[0;34m*\u001b[0m\u001b[0mvector_variables\u001b[0m\u001b[0;34m)\u001b[0m\u001b[0;34m]\u001b[0m\u001b[0;34m\u001b[0m\u001b[0m\n\u001b[1;32m      5\u001b[0m \u001b[0;34m\u001b[0m\u001b[0m\n",
      "\u001b[0;31mArithmeticError\u001b[0m: "
     ]
    }
   ],
   "source": [
    "def vector_addition(*vector_variables):\n",
    "    if vector_size_check(*vector_variables) == False:\n",
    "        raise ArithmeticError\n",
    "    return [sum(elements) for elements in zip(*vector_variables)]\n",
    "\n",
    "\n",
    "# 실행결과\n",
    "print(vector_addition([1, 3], [2, 4], [6, 7])) # Expected value: [9, 14]\n",
    "print(vector_addition([1, 5], [10, 4], [4, 7])) # Expected value: [15, 16]\n",
    "print(vector_addition([1, 3, 4], [4], [6,7])) # Expected value: ArithmeticError"
   ]
  },
  {
   "cell_type": "markdown",
   "metadata": {},
   "source": [
    "### vector_subtraction (one line code available)\n",
    "\n",
    "- vector간 뺄셈을 실행하여 결과를 반환함, 단 입력되는 vector의 갯수와 크기는 일정하지 않음"
   ]
  },
  {
   "cell_type": "code",
   "execution_count": 3,
   "metadata": {},
   "outputs": [
    {
     "name": "stdout",
     "output_type": "stream",
     "text": [
      "[-1, -1]\n",
      "[-13, -6]\n"
     ]
    }
   ],
   "source": [
    "def vector_subtraction(*vector_variables):\n",
    "    if vector_size_check(*vector_variables) == False:\n",
    "        raise ArithmeticError\n",
    "    return [elements[0] - sum(elements[1:]) for elements in zip(*vector_variables)]     \n",
    "        \n",
    "\n",
    "# 실행결과\n",
    "print(vector_subtraction([1, 3], [2, 4])) # Expected value: [-1, -1]\n",
    "print(vector_subtraction([1, 5], [10, 4], [4, 7])) # Expected value: [-13, -6]"
   ]
  },
  {
   "cell_type": "markdown",
   "metadata": {},
   "source": [
    "### scalar_vector_product (one line code available)\n",
    "\n",
    "- 하나의 scalar 값을 vector에 곱함, 단 입력되는 vector의 크기는 일정하지 않음"
   ]
  },
  {
   "cell_type": "code",
   "execution_count": 4,
   "metadata": {},
   "outputs": [
    {
     "name": "stdout",
     "output_type": "stream",
     "text": [
      "[5, 10, 15]\n",
      "[6, 6]\n",
      "[4]\n"
     ]
    }
   ],
   "source": [
    "def scalar_vector_product(alpha, vector_variable):\n",
    "    return [alpha*element for element in vector_variable]\n",
    "\n",
    "\n",
    "# 실행결과\n",
    "print(scalar_vector_product(5,[1,2,3])) # Expected value: [5, 10, 15]\n",
    "print(scalar_vector_product(3,[2,2])) # Expected value: [6, 6]\n",
    "print(scalar_vector_product(4,[1])) # Expected value: [4]"
   ]
  },
  {
   "cell_type": "markdown",
   "metadata": {},
   "source": [
    "### matrix_size_check (one line code available)\n",
    "\n",
    "- matrix 간 덧셈 또는 뺄셈 연산을 할 때, 연산이 가능한 사이즈인지를 확인하여 가능 여부를 True 또는 False로 반환함"
   ]
  },
  {
   "cell_type": "code",
   "execution_count": 5,
   "metadata": {},
   "outputs": [
    {
     "name": "stdout",
     "output_type": "stream",
     "text": [
      "False\n",
      "True\n",
      "True\n",
      "True\n"
     ]
    }
   ],
   "source": [
    "def matrix_size_check(*matrix_variables):\n",
    "    return all(len(matrix_variables[0]) == len(matrix) for matrix in matrix_variables[1:])\n",
    "\n",
    "\n",
    "# 실행결과\n",
    "matrix_x = [[2, 2], [2, 2], [2, 2]]\n",
    "matrix_y = [[2, 5], [2, 1]]\n",
    "matrix_z = [[2, 4], [5, 3]]\n",
    "matrix_w = [[2, 5], [1, 1], [2, 2]]\n",
    "matrix_d = [[2, 1], [5, 3], [5, 4]]\n",
    "matrix_e = [[5, 2, 5], [3, 4, 5], [5, 6, 5]]\n",
    "\n",
    "print(matrix_size_check(matrix_x, matrix_y, matrix_z)) # Expected value: False\n",
    "print(matrix_size_check(matrix_y, matrix_z)) # Expected value: True\n",
    "print(matrix_size_check(matrix_x, matrix_w)) # Expected value: True\n",
    "print(matrix_size_check(matrix_d, matrix_e)) # Expected value: False"
   ]
  },
  {
   "cell_type": "markdown",
   "metadata": {},
   "source": [
    "행과 열로 각각 체크를 해야하는데 열만 체크함\n",
    "\n",
    "그래서 \n",
    "\n",
    "~~~python\n",
    "print(matrix_size_check(matrix_d, matrix_e))\n",
    "~~~\n",
    "\n",
    "해보면 True가 뜬다."
   ]
  },
  {
   "cell_type": "markdown",
   "metadata": {},
   "source": [
    "추가적으로 matrix에 len을 취하면 행(row)의 갯수가 나온다."
   ]
  },
  {
   "cell_type": "markdown",
   "metadata": {},
   "source": [
    "### is_matrix_equal (one line code available)\n",
    "\n",
    "- 비교가 되는 n개의 matrix가 서로 동치인지 확인하여 True 또는 False를 반환함"
   ]
  },
  {
   "cell_type": "code",
   "execution_count": 6,
   "metadata": {},
   "outputs": [
    {
     "name": "stdout",
     "output_type": "stream",
     "text": [
      "False\n",
      "True\n"
     ]
    }
   ],
   "source": [
    "def is_matrix_equal(*matrix_variables):\n",
    "    return all([elements[0] == element for rows in zip(*matrix_variables)\n",
    "               for elements in zip(*rows) for element in elements[1:]])\n",
    "\n",
    "\n",
    "# 실행결과\n",
    "matrix_x = [[2, 2], [2, 2]]\n",
    "matrix_y = [[2, 5], [2, 1]]\n",
    "\n",
    "print(is_matrix_equal(matrix_x, matrix_y, matrix_y, matrix_y)) # Expected value: False\n",
    "print(is_matrix_equal(matrix_x, matrix_x)) # Expected value: True"
   ]
  },
  {
   "cell_type": "markdown",
   "metadata": {},
   "source": [
    "### matrix_addition (one line code available)\n",
    "\n",
    "- matrix간 덧셈을 실행하여 결과를 반환함, 단 입력되는 matrix의 갯수와 크기는 일정하지 않음"
   ]
  },
  {
   "cell_type": "code",
   "execution_count": 7,
   "metadata": {},
   "outputs": [
    {
     "name": "stdout",
     "output_type": "stream",
     "text": [
      "[[4, 7], [4, 3]]\n",
      "[[6, 11], [9, 6]]\n"
     ]
    }
   ],
   "source": [
    "def matrix_addition(*matrix_variables):\n",
    "    if matrix_size_check(*matrix_variables) == False:\n",
    "        raise ArithmeticError\n",
    "    return [[sum(elements) for elements in zip(*rows)] for rows in zip(*matrix_variables)]\n",
    "\n",
    "\n",
    "# 실행결과\n",
    "matrix_x = [[2, 2], [2, 2]]\n",
    "matrix_y = [[2, 5], [2, 1]]\n",
    "matrix_z = [[2, 4], [5, 3]]\n",
    "\n",
    "print(matrix_addition(matrix_x, matrix_y)) # Expected value: [[4, 7], [4, 3]]\n",
    "print(matrix_addition(matrix_x, matrix_y, matrix_z)) # Expected value: [[6, 11], [9, 6]]"
   ]
  },
  {
   "cell_type": "markdown",
   "metadata": {},
   "source": [
    "### matrix_subtraction (one line code available)\n",
    "\n",
    "- matrix간 뺄셈을 실행하여 결과를 반환함, 단 입력되는 matrix의 갯수와 크기는 일정하지 않음"
   ]
  },
  {
   "cell_type": "code",
   "execution_count": 8,
   "metadata": {},
   "outputs": [
    {
     "name": "stdout",
     "output_type": "stream",
     "text": [
      "[[0, -3], [0, 1]]\n",
      "[[-2, -7], [-5, -2]]\n"
     ]
    }
   ],
   "source": [
    "def matrix_subtraction(*matrix_variables):\n",
    "    if matrix_size_check(*matrix_variables) == False:\n",
    "        raise ArithmeticError\n",
    "    return [[elements[0] - sum(elements[1:]) for elements in zip(*rows)] \n",
    "            for rows in zip(*matrix_variables)]\n",
    "\n",
    "\n",
    "# 실행결과\n",
    "matrix_x = [[2, 2], [2, 2]]\n",
    "matrix_y = [[2, 5], [2, 1]]\n",
    "matrix_z = [[2, 4], [5, 3]]\n",
    "\n",
    "print(matrix_subtraction(matrix_x, matrix_y)) # Expected value: [[0, -3], [0, 1]]\n",
    "print(matrix_subtraction(matrix_x, matrix_y, matrix_z)) # Expected value: [[-2, -7], [-5, -2]]"
   ]
  },
  {
   "cell_type": "markdown",
   "metadata": {},
   "source": [
    "### matrix_transpose (one line code available)\n",
    "\n",
    "- matrix의 역행렬을 구하여 결과를 반환함, 단 입력되는 matrix의 크기는 일정하지 않음"
   ]
  },
  {
   "cell_type": "code",
   "execution_count": 9,
   "metadata": {},
   "outputs": [
    {
     "data": {
      "text/plain": [
       "[[2, 1, 2], [5, 1, 2]]"
      ]
     },
     "execution_count": 9,
     "metadata": {},
     "output_type": "execute_result"
    }
   ],
   "source": [
    "def matrix_transpose(matrix_variable):\n",
    "    return [[element for element in rows] for rows in zip(*matrix_variable)]\n",
    "\n",
    "\n",
    "# 실행결과\n",
    "matrix_w = [[2, 5], [1, 1], [2, 2]]\n",
    "matrix_transpose(matrix_w) # Expected value: [[2, 1, 2], [5, 1, 2]]"
   ]
  },
  {
   "cell_type": "markdown",
   "metadata": {},
   "source": [
    "### scalar_matrix_product (one line code available)\n",
    "\n",
    "- 하나의 scalar 값을 matrix에 곱함, 단 입력되는 matrix의  크기는 일정하지 않음"
   ]
  },
  {
   "cell_type": "code",
   "execution_count": 10,
   "metadata": {},
   "outputs": [
    {
     "name": "stdout",
     "output_type": "stream",
     "text": [
      "[[6, 6], [6, 6], [6, 6]]\n",
      "[[4, 10], [4, 2]]\n",
      "[[8, 16], [20, 12]]\n",
      "[[6, 15], [3, 3], [6, 6]]\n"
     ]
    }
   ],
   "source": [
    "def scalar_matrix_product(alpha, matrix_variable):\n",
    "    return [[alpha*element for element in row] for row in matrix_variable]\n",
    "\n",
    "\n",
    "# 실행결과\n",
    "matrix_x = [[2, 2], [2, 2], [2, 2]]\n",
    "matrix_y = [[2, 5], [2, 1]]\n",
    "matrix_z = [[2, 4], [5, 3]]\n",
    "matrix_w = [[2, 5], [1, 1], [2, 2]]\n",
    "\n",
    "print(scalar_matrix_product(3, matrix_x)) #Expected value: [[6, 6], [6, 6], [6, 6]]\n",
    "print(scalar_matrix_product(2, matrix_y)) #Expected value: [[4, 10], [4, 2]]\n",
    "print(scalar_matrix_product(4, matrix_z)) #Expected value: [[8, 16], [20, 12]]\n",
    "print(scalar_matrix_product(3, matrix_w)) #Expected value: [[6, 15], [3, 3], [6, 6]]"
   ]
  },
  {
   "cell_type": "markdown",
   "metadata": {},
   "source": [
    "### is_product_availability_matrix\t(one line code available)\n",
    "\n",
    "- 두 개의 matrix가 입력 되었을 경우, 두 matrix의 곱셈 연산의 가능 여부를 True 또는 False로 반환함"
   ]
  },
  {
   "cell_type": "code",
   "execution_count": 11,
   "metadata": {},
   "outputs": [
    {
     "name": "stdout",
     "output_type": "stream",
     "text": [
      "True\n",
      "True\n",
      "True\n"
     ]
    },
    {
     "ename": "NameError",
     "evalue": "name 'matrix_t' is not defined",
     "output_type": "error",
     "traceback": [
      "\u001b[0;31m---------------------------------------------------------------------------\u001b[0m",
      "\u001b[0;31mNameError\u001b[0m                                 Traceback (most recent call last)",
      "\u001b[0;32m<ipython-input-11-fb4dc5739c1b>\u001b[0m in \u001b[0;36m<module>\u001b[0;34m()\u001b[0m\n\u001b[1;32m     12\u001b[0m \u001b[0mprint\u001b[0m\u001b[0;34m(\u001b[0m\u001b[0mis_product_availability_matrix\u001b[0m\u001b[0;34m(\u001b[0m\u001b[0mmatrix_z\u001b[0m\u001b[0;34m,\u001b[0m \u001b[0mmatrix_x\u001b[0m\u001b[0;34m)\u001b[0m\u001b[0;34m)\u001b[0m \u001b[0;31m# Expected value: True\u001b[0m\u001b[0;34m\u001b[0m\u001b[0m\n\u001b[1;32m     13\u001b[0m \u001b[0mprint\u001b[0m\u001b[0;34m(\u001b[0m\u001b[0mis_product_availability_matrix\u001b[0m\u001b[0;34m(\u001b[0m\u001b[0mmatrix_x\u001b[0m\u001b[0;34m,\u001b[0m \u001b[0mmatrix_x\u001b[0m\u001b[0;34m)\u001b[0m\u001b[0;34m)\u001b[0m \u001b[0;31m# Expected value: True\u001b[0m\u001b[0;34m\u001b[0m\u001b[0m\n\u001b[0;32m---> 14\u001b[0;31m \u001b[0mprint\u001b[0m\u001b[0;34m(\u001b[0m\u001b[0mis_product_availability_matrix\u001b[0m\u001b[0;34m(\u001b[0m\u001b[0mmatrix_z\u001b[0m\u001b[0;34m,\u001b[0m \u001b[0mmatrix_t\u001b[0m\u001b[0;34m)\u001b[0m\u001b[0;34m)\u001b[0m \u001b[0;31m# Expected value: False\u001b[0m\u001b[0;34m\u001b[0m\u001b[0m\n\u001b[0m",
      "\u001b[0;31mNameError\u001b[0m: name 'matrix_t' is not defined"
     ]
    }
   ],
   "source": [
    "def is_product_availability_matrix(matrix_a, matrix_b):\n",
    "    return bool([[(sum(a * b for a, b in zip(row_a, column_b))) \n",
    "             for column_b in zip(*matrix_b)] for row_a in matrix_a])\n",
    "\n",
    "\n",
    "# 실행결과\n",
    "matrix_x = [[2, 5], [1, 1]]\n",
    "matrix_y = [[1, 1, 2], [2, 1, 1]]\n",
    "matrix_z = [[2, 4], [5, 3], [1, 3]]\n",
    "\n",
    "print(is_product_availability_matrix(matrix_y, matrix_z)) # Expected value: True\n",
    "print(is_product_availability_matrix(matrix_z, matrix_x)) # Expected value: True\n",
    "print(is_product_availability_matrix(matrix_x, matrix_x)) # Expected value: True\n",
    "print(is_product_availability_matrix(matrix_z, matrix_t)) # Expected value: False"
   ]
  },
  {
   "cell_type": "markdown",
   "metadata": {},
   "source": [
    "전부 다 구해서 bool을 구할 필요 없이 앞 행렬의 '열'과 뒷 행렬의 '행'만 비교하여 출력하면 된다."
   ]
  },
  {
   "cell_type": "markdown",
   "metadata": {},
   "source": [
    "### matrix_product  (one line code available)\n",
    "\n",
    "- 곱셈 연산이 가능한 두 개의 matrix의 곱셈을 실행하여 반환함"
   ]
  },
  {
   "cell_type": "code",
   "execution_count": 12,
   "metadata": {},
   "outputs": [
    {
     "name": "stdout",
     "output_type": "stream",
     "text": [
      "[[9, 13], [10, 14]]\n",
      "[[8, 14], [13, 28], [5, 8]]\n",
      "[[9, 15], [3, 6]]\n"
     ]
    },
    {
     "ename": "NameError",
     "evalue": "name 'matrix_t' is not defined",
     "output_type": "error",
     "traceback": [
      "\u001b[0;31m---------------------------------------------------------------------------\u001b[0m",
      "\u001b[0;31mNameError\u001b[0m                                 Traceback (most recent call last)",
      "\u001b[0;32m<ipython-input-12-326cbadd90b2>\u001b[0m in \u001b[0;36m<module>\u001b[0;34m()\u001b[0m\n\u001b[1;32m     14\u001b[0m \u001b[0mprint\u001b[0m\u001b[0;34m(\u001b[0m\u001b[0mmatrix_product\u001b[0m\u001b[0;34m(\u001b[0m\u001b[0mmatrix_z\u001b[0m\u001b[0;34m,\u001b[0m \u001b[0mmatrix_x\u001b[0m\u001b[0;34m)\u001b[0m\u001b[0;34m)\u001b[0m \u001b[0;31m# Expected value: [[8, 14], [13, 28], [5, 8]]\u001b[0m\u001b[0;34m\u001b[0m\u001b[0m\n\u001b[1;32m     15\u001b[0m \u001b[0mprint\u001b[0m\u001b[0;34m(\u001b[0m\u001b[0mmatrix_product\u001b[0m\u001b[0;34m(\u001b[0m\u001b[0mmatrix_x\u001b[0m\u001b[0;34m,\u001b[0m \u001b[0mmatrix_x\u001b[0m\u001b[0;34m)\u001b[0m\u001b[0;34m)\u001b[0m \u001b[0;31m# Expected value: [[9, 15], [3, 6]]\u001b[0m\u001b[0;34m\u001b[0m\u001b[0m\n\u001b[0;32m---> 16\u001b[0;31m \u001b[0mprint\u001b[0m\u001b[0;34m(\u001b[0m\u001b[0mmatrix_product\u001b[0m\u001b[0;34m(\u001b[0m\u001b[0mmatrix_z\u001b[0m\u001b[0;34m,\u001b[0m \u001b[0mmatrix_t\u001b[0m\u001b[0;34m)\u001b[0m\u001b[0;34m)\u001b[0m \u001b[0;31m# Expected value: False\u001b[0m\u001b[0;34m\u001b[0m\u001b[0m\n\u001b[0m",
      "\u001b[0;31mNameError\u001b[0m: name 'matrix_t' is not defined"
     ]
    }
   ],
   "source": [
    "def matrix_product(matrix_a, matrix_b):\n",
    "    if is_product_availability_matrix(matrix_a, matrix_b) == False:\n",
    "        raise ArithmeticError\n",
    "    return [[(sum(a*b for a, b in zip(row_a, column_b))) \n",
    "             for column_b in zip(*matrix_b)] for row_a in matrix_a]\n",
    "\n",
    "\n",
    "# 실행결과\n",
    "matrix_x= [[2, 5], [1, 1]]\n",
    "matrix_y = [[1, 1, 2], [2, 1, 1]]\n",
    "matrix_z = [[2, 4], [5, 3], [1, 3]]\n",
    "\n",
    "print(matrix_product(matrix_y, matrix_z)) # Expected value: [[9, 13], [10, 14]]\n",
    "print(matrix_product(matrix_z, matrix_x)) # Expected value: [[8, 14], [13, 28], [5, 8]]\n",
    "print(matrix_product(matrix_x, matrix_x)) # Expected value: [[9, 15], [3, 6]]\n",
    "print(matrix_product(matrix_z, matrix_t)) # Expected value: False"
   ]
  }
 ],
 "metadata": {
  "kernelspec": {
   "display_name": "Python 3",
   "language": "python",
   "name": "python3"
  },
  "language_info": {
   "codemirror_mode": {
    "name": "ipython",
    "version": 3
   },
   "file_extension": ".py",
   "mimetype": "text/x-python",
   "name": "python",
   "nbconvert_exporter": "python",
   "pygments_lexer": "ipython3",
   "version": "3.6.5"
  }
 },
 "nbformat": 4,
 "nbformat_minor": 2
}
