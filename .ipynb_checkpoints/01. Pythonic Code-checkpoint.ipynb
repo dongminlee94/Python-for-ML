{
 "cells": [
  {
   "cell_type": "markdown",
   "metadata": {},
   "source": [
    "# 1. Overview"
   ]
  },
  {
   "cell_type": "markdown",
   "metadata": {},
   "source": [
    "## Pythonic Code의 예"
   ]
  },
  {
   "cell_type": "code",
   "execution_count": 1,
   "metadata": {},
   "outputs": [
    {
     "name": "stdout",
     "output_type": "stream",
     "text": [
      "abcde\n"
     ]
    }
   ],
   "source": [
    "# 일반 코드\n",
    "\n",
    "colors = [\"a\", \"b\", \"c\", \"d\", \"e\"]\n",
    "result = \"\"\n",
    "\n",
    "for s in colors:\n",
    "    result += s\n",
    "\n",
    "print(result)"
   ]
  },
  {
   "cell_type": "code",
   "execution_count": 2,
   "metadata": {},
   "outputs": [
    {
     "name": "stdout",
     "output_type": "stream",
     "text": [
      "redbluegreenyellow\n"
     ]
    }
   ],
   "source": [
    "# pythonic code\n",
    "\n",
    "colors = [\"red\", \"blue\", \"green\", \"yellow\"]\n",
    "result = \"\".join(colors)\n",
    "\n",
    "print(result)"
   ]
  },
  {
   "cell_type": "markdown",
   "metadata": {},
   "source": [
    "## Pythonic Code란?"
   ]
  },
  {
   "cell_type": "markdown",
   "metadata": {},
   "source": [
    "- 파이썬 스타일의 코딩 기법\n",
    "- 파이썬 특유의 문법을 활용하여 효율적으로 코드를 표현함\n",
    "- 고급 코드를 작성 할 수록 더 많이 필요해짐 "
   ]
  },
  {
   "cell_type": "markdown",
   "metadata": {},
   "source": [
    "## 대략적으로 배울 것들"
   ]
  },
  {
   "cell_type": "markdown",
   "metadata": {},
   "source": [
    "- Split & Join\n",
    "- List Comprehension\n",
    "- Enumerate & Zip"
   ]
  },
  {
   "cell_type": "markdown",
   "metadata": {},
   "source": [
    "---"
   ]
  },
  {
   "cell_type": "markdown",
   "metadata": {},
   "source": [
    "# 2. Split & Join"
   ]
  },
  {
   "cell_type": "markdown",
   "metadata": {},
   "source": [
    "## Split"
   ]
  },
  {
   "cell_type": "code",
   "execution_count": 3,
   "metadata": {},
   "outputs": [
    {
     "name": "stdout",
     "output_type": "stream",
     "text": [
      "['zero', 'one', 'two', 'three']\n"
     ]
    }
   ],
   "source": [
    "items = 'zero one two three'.split()\n",
    "\n",
    "print(items)"
   ]
  },
  {
   "cell_type": "code",
   "execution_count": 4,
   "metadata": {},
   "outputs": [
    {
     "name": "stdout",
     "output_type": "stream",
     "text": [
      "['python', 'jquery', 'javascript']\n"
     ]
    }
   ],
   "source": [
    "example = 'python,jquery,javascript'\n",
    "\n",
    "print(example.split(\",\"))"
   ]
  },
  {
   "cell_type": "code",
   "execution_count": 5,
   "metadata": {},
   "outputs": [
    {
     "name": "stdout",
     "output_type": "stream",
     "text": [
      "python jquery javascript\n"
     ]
    }
   ],
   "source": [
    "example = 'python,jquery,javascript'\n",
    "\n",
    "# unpacking 기법 - 각각의 변수로 maping이 된다. \n",
    "a, b, c = example.split(\",\")\n",
    "print(a, b, c)"
   ]
  },
  {
   "cell_type": "code",
   "execution_count": 6,
   "metadata": {},
   "outputs": [
    {
     "name": "stdout",
     "output_type": "stream",
     "text": [
      "cs50 gachon edu\n"
     ]
    }
   ],
   "source": [
    "# unpacking의 구체적인 예\n",
    "\n",
    "example = 'cs50.gachon.edu'\n",
    "\n",
    "subdomain, domain, tld = example.split(\".\")\n",
    "print(subdomain, domain, tld)"
   ]
  },
  {
   "cell_type": "markdown",
   "metadata": {},
   "source": [
    "- unpacking\n",
    "\n",
    "이런 방법으로 컬렉션의 원소를 여러 변수에 나눠 담는 것을 언패킹(unpacking, 풀기) 또는 구조분해(destructuring)라고 부른다. unpacking이란 쉽게 말해 풀어진 상태에서 내가 원하는대로 변형할 수 있다는 것이다. 변수로 넣어놓을 수도 있고 아니면 밑에서 다루겠지만 자료형이 없는 상태이기 때문에 순수한 변수, 그 숫자로 남겨지게 된다."
   ]
  },
  {
   "cell_type": "markdown",
   "metadata": {},
   "source": [
    "## Join"
   ]
  },
  {
   "cell_type": "code",
   "execution_count": 7,
   "metadata": {},
   "outputs": [
    {
     "name": "stdout",
     "output_type": "stream",
     "text": [
      "redbluegreenyallow\n"
     ]
    }
   ],
   "source": [
    "colors = [\"red\", \"blue\", \"green\", \"yallow\"]\n",
    "\n",
    "result = ''.join(colors)\n",
    "print(result)"
   ]
  },
  {
   "cell_type": "code",
   "execution_count": 8,
   "metadata": {},
   "outputs": [
    {
     "name": "stdout",
     "output_type": "stream",
     "text": [
      "red blue green yallow\n"
     ]
    }
   ],
   "source": [
    "result = ' '.join(colors)\n",
    "print(result)"
   ]
  },
  {
   "cell_type": "code",
   "execution_count": 9,
   "metadata": {},
   "outputs": [
    {
     "name": "stdout",
     "output_type": "stream",
     "text": [
      "red, blue, green, yallow\n"
     ]
    }
   ],
   "source": [
    "result = ', '.join(colors)\n",
    "print(result)"
   ]
  },
  {
   "cell_type": "code",
   "execution_count": 10,
   "metadata": {},
   "outputs": [
    {
     "name": "stdout",
     "output_type": "stream",
     "text": [
      "red-blue-green-yallow\n"
     ]
    }
   ],
   "source": [
    "result = '-'.join(colors)\n",
    "print(result)"
   ]
  },
  {
   "cell_type": "markdown",
   "metadata": {},
   "source": [
    "---"
   ]
  },
  {
   "cell_type": "markdown",
   "metadata": {},
   "source": [
    "# 3. List Comprehension"
   ]
  },
  {
   "cell_type": "markdown",
   "metadata": {},
   "source": [
    "- 기존 List를 사용하여 간단히 다른 List를 만드는 기법\n",
    "- 포괄적인 List, 포함되는 Lisk라는 의미로 사용됨\n",
    "- 파이썬에서 가장 많이 사용되는 기법 중 하나\n",
    "- 일반적으로 for + append 보다 속도가 빠름"
   ]
  },
  {
   "cell_type": "markdown",
   "metadata": {},
   "source": [
    "## for loop + append 사용하기"
   ]
  },
  {
   "cell_type": "code",
   "execution_count": 11,
   "metadata": {},
   "outputs": [
    {
     "name": "stdout",
     "output_type": "stream",
     "text": [
      "[0, 1, 2, 3, 4, 5, 6, 7, 8, 9]\n"
     ]
    }
   ],
   "source": [
    "result = []\n",
    "\n",
    "for i in range(10):\n",
    "    result.append(i)\n",
    "\n",
    "print(result)"
   ]
  },
  {
   "cell_type": "markdown",
   "metadata": {},
   "source": [
    "## list comprehension 사용하기"
   ]
  },
  {
   "cell_type": "code",
   "execution_count": 12,
   "metadata": {},
   "outputs": [
    {
     "name": "stdout",
     "output_type": "stream",
     "text": [
      "[0, 1, 2, 3, 4, 5, 6, 7, 8, 9]\n",
      "[0, 2, 4, 6, 8]\n"
     ]
    }
   ],
   "source": [
    "# 따로 result = []를 안해줘도 된다.\n",
    "result = [i for i in range(10)]\n",
    "print(result)\n",
    "\n",
    "result = [i for i in range(10) if i % 2 == 0]\n",
    "print(result)"
   ]
  },
  {
   "cell_type": "markdown",
   "metadata": {},
   "source": [
    "## nested for loop"
   ]
  },
  {
   "cell_type": "code",
   "execution_count": 13,
   "metadata": {},
   "outputs": [
    {
     "name": "stdout",
     "output_type": "stream",
     "text": [
      "1-dimensional list ['HW', 'Ho', 'Hr', 'Hl', 'Hd', 'eW', 'eo', 'er', 'el', 'ed', 'lW', 'lo', 'lr', 'll', 'ld', 'lW', 'lo', 'lr', 'll', 'ld', 'oW', 'oo', 'or', 'ol', 'od']\n",
      "2-dimentsional list [['HW', 'eW', 'lW', 'lW', 'oW'], ['Ho', 'eo', 'lo', 'lo', 'oo'], ['Hr', 'er', 'lr', 'lr', 'or'], ['Hl', 'el', 'll', 'll', 'ol'], ['Hd', 'ed', 'ld', 'ld', 'od']]\n"
     ]
    }
   ],
   "source": [
    "word_1 = \"Hello\"\n",
    "word_2 = \"World\"\n",
    "\n",
    "# 1-dimensional list\n",
    "result1 = [i+j for i in word_1 for j in word_2]\n",
    "print('1-dimensional list', result1)\n",
    "\n",
    "# 2-dimensional list (바깥에 있는 List가 먼저 고정)\n",
    "result2 = [[i+j for i in word_1] for j in word_2]\n",
    "print('2-dimentsional list', result2)"
   ]
  },
  {
   "cell_type": "markdown",
   "metadata": {},
   "source": [
    "1-dimensional list : [i+j for i in word_1 for j in word_2]\n",
    "\n",
    "- 앞에 있는 for문 중심으로 값이 생성된다.\n",
    "\n",
    "2-dimensional list : [[i+j for i in word_1] for j in word_2]\n",
    "\n",
    "- 뒤에 있는 for문 중심으로 값이 생성된다."
   ]
  },
  {
   "cell_type": "markdown",
   "metadata": {},
   "source": [
    "### 일반적인 for loop과의 차이"
   ]
  },
  {
   "cell_type": "code",
   "execution_count": 14,
   "metadata": {
    "scrolled": true
   },
   "outputs": [
    {
     "name": "stdout",
     "output_type": "stream",
     "text": [
      "['HW', 'Ho', 'Hr', 'Hl', 'Hd', 'eW', 'eo', 'er', 'el', 'ed', 'lW', 'lo', 'lr', 'll', 'ld', 'lW', 'lo', 'lr', 'll', 'ld', 'oW', 'oo', 'or', 'ol', 'od']\n"
     ]
    }
   ],
   "source": [
    "result = []\n",
    "\n",
    "for i in word_1:\n",
    "    for j in word_2:\n",
    "        result.append(i+j)\n",
    "        \n",
    "print(result)"
   ]
  },
  {
   "cell_type": "markdown",
   "metadata": {},
   "source": [
    "추가적으로 구구단을 출력해봤다."
   ]
  },
  {
   "cell_type": "code",
   "execution_count": 15,
   "metadata": {},
   "outputs": [
    {
     "name": "stdout",
     "output_type": "stream",
     "text": [
      "[2, 4, 6, 8, 10, 12, 14, 16, 18, 3, 6, 9, 12, 15, 18, 21, 24, 27, 4, 8, 12, 16, 20, 24, 28, 32, 36, 5, 10, 15, 20, 25, 30, 35, 40, 45, 6, 12, 18, 24, 30, 36, 42, 48, 54, 7, 14, 21, 28, 35, 42, 49, 56, 63, 8, 16, 24, 32, 40, 48, 56, 64, 72, 9, 18, 27, 36, 45, 54, 63, 72, 81]\n",
      "[[2, 4, 6, 8, 10, 12, 14, 16, 18], [3, 6, 9, 12, 15, 18, 21, 24, 27], [4, 8, 12, 16, 20, 24, 28, 32, 36], [5, 10, 15, 20, 25, 30, 35, 40, 45], [6, 12, 18, 24, 30, 36, 42, 48, 54], [7, 14, 21, 28, 35, 42, 49, 56, 63], [8, 16, 24, 32, 40, 48, 56, 64, 72], [9, 18, 27, 36, 45, 54, 63, 72, 81]]\n"
     ]
    }
   ],
   "source": [
    "# 1-dimentsion\n",
    "result = [x*y for x in range(2,10)\n",
    "         for y in range(1,10)]\n",
    "print(result)\n",
    "\n",
    "# 2-dimentsion\n",
    "result = [[x*y for x in range(1,10)]\n",
    "         for y in range(2,10)]\n",
    "print(result)"
   ]
  },
  {
   "cell_type": "markdown",
   "metadata": {},
   "source": [
    "아래와 같이 구구단을 표현하려면\n",
    "\n",
    "~~~python\n",
    "[[x*y for x in range(1,10)] for y in range(2,10)]\n",
    "~~~ \n",
    "이렇게 순서를 바꾸어 주어야 한다."
   ]
  },
  {
   "cell_type": "code",
   "execution_count": 16,
   "metadata": {},
   "outputs": [
    {
     "name": "stdout",
     "output_type": "stream",
     "text": [
      "[[2, 3, 4, 5, 6, 7, 8, 9], [4, 6, 8, 10, 12, 14, 16, 18], [6, 9, 12, 15, 18, 21, 24, 27], [8, 12, 16, 20, 24, 28, 32, 36], [10, 15, 20, 25, 30, 35, 40, 45], [12, 18, 24, 30, 36, 42, 48, 54], [14, 21, 28, 35, 42, 49, 56, 63], [16, 24, 32, 40, 48, 56, 64, 72], [18, 27, 36, 45, 54, 63, 72, 81]]\n"
     ]
    }
   ],
   "source": [
    "result = [[x*y for x in range(2,10)]\n",
    "         for y in range(1, 10)]\n",
    "print(result)"
   ]
  },
  {
   "cell_type": "markdown",
   "metadata": {},
   "source": [
    "안그러면 이렇게 뒤에 있는 for문 중심으로 출력이 되어서 구구단이 되지 못한다."
   ]
  },
  {
   "cell_type": "markdown",
   "metadata": {},
   "source": [
    "## nested for loop + if 문"
   ]
  },
  {
   "cell_type": "code",
   "execution_count": 17,
   "metadata": {},
   "outputs": [
    {
     "name": "stdout",
     "output_type": "stream",
     "text": [
      "['AD', 'AE', 'AA', 'BD', 'BE', 'BA', 'CD', 'CE', 'CA']\n",
      "[['AD', 'BD', 'CD'], ['AE', 'BE', 'CE'], ['AA', 'BA', 'CA']]\n",
      "['AD', 'AE', 'BD', 'BE', 'BA', 'CD', 'CE', 'CA']\n",
      "['AD', 'AE', 'BA', 'BD', 'BE', 'CA', 'CD', 'CE']\n",
      "['AD', 'AE', 'BA', 'BD', 'BE', 'CA', 'CD', 'CE']\n"
     ]
    }
   ],
   "source": [
    "case_1 = [\"A\", \"B\", \"C\"]\n",
    "case_2 = [\"D\", \"E\", \"A\"]\n",
    "\n",
    "# 1-dimensional list\n",
    "result3 = [i+j for i in case_1 for j in case_2]\n",
    "print(result3)\n",
    "\n",
    "# 2-dimensional list\n",
    "result3 = [[i+j for i in case_1] for j in case_2]\n",
    "print(result3)\n",
    "\n",
    "# if 문 추가 (AA 제외)\n",
    "result4 = [i+j for i in case_1 for j in case_2 if not(i==j)]\n",
    "print(result4)\n",
    "\n",
    "# sort\n",
    "print(sorted(result4))\n",
    "\n",
    "result4.sort()\n",
    "print(result4)"
   ]
  },
  {
   "cell_type": "markdown",
   "metadata": {},
   "source": [
    "## split + list comprehension"
   ]
  },
  {
   "cell_type": "code",
   "execution_count": 18,
   "metadata": {},
   "outputs": [
    {
     "name": "stdout",
     "output_type": "stream",
     "text": [
      "words ['The', 'quick', 'brown', 'fox', 'jumps', 'over', 'the', 'lazy', 'dog']\n",
      "stuff [['THE', 'the', 3], ['QUICK', 'quick', 5], ['BROWN', 'brown', 5], ['FOX', 'fox', 3], ['JUMPS', 'jumps', 5], ['OVER', 'over', 4], ['THE', 'the', 3], ['LAZY', 'lazy', 4], ['DOG', 'dog', 3]]\n",
      "['THE', 'the', 3]\n",
      "['QUICK', 'quick', 5]\n",
      "['BROWN', 'brown', 5]\n",
      "['FOX', 'fox', 3]\n",
      "['JUMPS', 'jumps', 5]\n",
      "['OVER', 'over', 4]\n",
      "['THE', 'the', 3]\n",
      "['LAZY', 'lazy', 4]\n",
      "['DOG', 'dog', 3]\n"
     ]
    }
   ],
   "source": [
    "words = 'The quick brown fox jumps over the lazy dog'.split()\n",
    "print('words', words)\n",
    "\n",
    "# 2-dimensional list\n",
    "stuff = [[w.upper(), w.lower(), len(w)] for w in words]\n",
    "print('stuff', stuff)\n",
    "\n",
    "for i in stuff:\n",
    "    print(i)"
   ]
  },
  {
   "cell_type": "markdown",
   "metadata": {},
   "source": [
    "---"
   ]
  },
  {
   "cell_type": "markdown",
   "metadata": {},
   "source": [
    "# 4. Enumerate & Zip"
   ]
  },
  {
   "cell_type": "markdown",
   "metadata": {},
   "source": [
    "## enumerate\n",
    "\n",
    "- list의 element를 추출할 때 번호를 붙여서 추출"
   ]
  },
  {
   "cell_type": "markdown",
   "metadata": {},
   "source": [
    "### for loop + enumerate"
   ]
  },
  {
   "cell_type": "code",
   "execution_count": 19,
   "metadata": {},
   "outputs": [
    {
     "name": "stdout",
     "output_type": "stream",
     "text": [
      "0 tic\n",
      "1 tac\n",
      "2 toc\n"
     ]
    }
   ],
   "source": [
    "for i, v in enumerate(['tic', 'tac', 'toc']):\n",
    "    print(i, v)"
   ]
  },
  {
   "cell_type": "markdown",
   "metadata": {},
   "source": [
    "### list + enumerate"
   ]
  },
  {
   "cell_type": "code",
   "execution_count": 20,
   "metadata": {},
   "outputs": [
    {
     "name": "stdout",
     "output_type": "stream",
     "text": [
      "[(0, 'a'), (1, 'b'), (2, 'c'), (3, 'd')]\n"
     ]
    }
   ],
   "source": [
    "mylist = ['a','b','c','d']\n",
    "print(list(enumerate(mylist)))"
   ]
  },
  {
   "cell_type": "markdown",
   "metadata": {},
   "source": [
    "### list comprehension + enumerate"
   ]
  },
  {
   "cell_type": "code",
   "execution_count": 21,
   "metadata": {},
   "outputs": [
    {
     "name": "stdout",
     "output_type": "stream",
     "text": [
      "{0: 'Hanyang', 1: 'University', 2: 'is', 3: 'an', 4: 'academic', 5: 'institue', 6: 'located', 7: 'in', 8: 'South', 9: 'Korea'}\n"
     ]
    }
   ],
   "source": [
    "print({i:j for i, j in enumerate(\n",
    "    'Hanyang University \\\n",
    "    is an academic institue located in South Korea'.split())})"
   ]
  },
  {
   "cell_type": "markdown",
   "metadata": {},
   "source": [
    "## zip\n",
    "\n",
    "- 두 개의 list의 값을 병렬적으로 추출함"
   ]
  },
  {
   "cell_type": "markdown",
   "metadata": {},
   "source": [
    "### for loop + zip"
   ]
  },
  {
   "cell_type": "code",
   "execution_count": 22,
   "metadata": {},
   "outputs": [
    {
     "name": "stdout",
     "output_type": "stream",
     "text": [
      "a1 b1\n",
      "a2 b2\n",
      "a3 b3\n"
     ]
    }
   ],
   "source": [
    "alist = ['a1', 'a2', 'a3']\n",
    "blist = ['b1', 'b2', 'b3']\n",
    "\n",
    "for a, b in zip(alist, blist):\n",
    "    print(a, b)"
   ]
  },
  {
   "cell_type": "markdown",
   "metadata": {},
   "source": [
    "### list comprehension + zip"
   ]
  },
  {
   "cell_type": "code",
   "execution_count": 23,
   "metadata": {},
   "outputs": [
    {
     "name": "stdout",
     "output_type": "stream",
     "text": [
      "(1, 10, 100) (2, 20, 200) (3, 30, 300)\n",
      "[111, 222, 333]\n"
     ]
    }
   ],
   "source": [
    "a, b, c = zip((1, 2, 3), (10, 20, 30), (100, 200, 300))\n",
    "print(a, b, c)\n",
    "\n",
    "print([sum(x) for x in zip(\n",
    "    (1, 2, 3), (10, 20, 30), (100, 200, 300))])"
   ]
  },
  {
   "cell_type": "markdown",
   "metadata": {},
   "source": [
    "### enumerate + zip"
   ]
  },
  {
   "cell_type": "code",
   "execution_count": 24,
   "metadata": {},
   "outputs": [
    {
     "name": "stdout",
     "output_type": "stream",
     "text": [
      "0 a1 b1\n",
      "1 a2 b2\n",
      "2 a3 b3\n"
     ]
    }
   ],
   "source": [
    "alist = ['a1', 'a2', 'a3']\n",
    "blist = ['b1', 'b2', 'b3']\n",
    "\n",
    "for i, (a, b) in enumerate(zip(alist, blist)):\n",
    "    print(i, a, b)"
   ]
  },
  {
   "cell_type": "markdown",
   "metadata": {},
   "source": [
    "---"
   ]
  },
  {
   "cell_type": "markdown",
   "metadata": {},
   "source": [
    "# 5. Lambda & MapReduce"
   ]
  },
  {
   "cell_type": "markdown",
   "metadata": {},
   "source": [
    "## Lambda\n",
    "\n",
    "- 함수 이름 없이, 함수처럼 쓸 수 있는 익명함수\n",
    "- 수학의 람다 대수에서 유래함"
   ]
  },
  {
   "cell_type": "markdown",
   "metadata": {},
   "source": [
    "- General function"
   ]
  },
  {
   "cell_type": "code",
   "execution_count": 25,
   "metadata": {},
   "outputs": [
    {
     "name": "stdout",
     "output_type": "stream",
     "text": [
      "5\n"
     ]
    }
   ],
   "source": [
    "def f(x, y):\n",
    "    return x+y\n",
    "\n",
    "print(f(1,4))"
   ]
  },
  {
   "cell_type": "markdown",
   "metadata": {},
   "source": [
    "- Lambda function"
   ]
  },
  {
   "cell_type": "code",
   "execution_count": 26,
   "metadata": {},
   "outputs": [
    {
     "name": "stdout",
     "output_type": "stream",
     "text": [
      "5\n"
     ]
    }
   ],
   "source": [
    "f = lambda x, y: x+y\n",
    "\n",
    "print(f(1,4))"
   ]
  },
  {
   "cell_type": "code",
   "execution_count": 27,
   "metadata": {},
   "outputs": [
    {
     "name": "stdout",
     "output_type": "stream",
     "text": [
      "9\n",
      "1.5\n",
      "6\n"
     ]
    }
   ],
   "source": [
    "f = lambda x: x**2\n",
    "print(f(3))\n",
    "\n",
    "f = lambda x: x/2\n",
    "print(f(3))\n",
    "\n",
    "print((lambda x: x+1)(5))"
   ]
  },
  {
   "cell_type": "markdown",
   "metadata": {},
   "source": [
    "## Map\n",
    "\n",
    "- Sequence 자료형 각 element에 동일한 function을 적용함"
   ]
  },
  {
   "cell_type": "code",
   "execution_count": 28,
   "metadata": {},
   "outputs": [
    {
     "name": "stdout",
     "output_type": "stream",
     "text": [
      "[1, 4, 9, 16, 25]\n"
     ]
    }
   ],
   "source": [
    "ex = [1,2,3,4,5]\n",
    "\n",
    "f = lambda x: x**2\n",
    "print(list(map(f, ex)))"
   ]
  },
  {
   "cell_type": "code",
   "execution_count": 29,
   "metadata": {},
   "outputs": [
    {
     "name": "stdout",
     "output_type": "stream",
     "text": [
      "[1, 4, 9, 16, 25]\n",
      "[2, 4, 6, 8, 10]\n"
     ]
    }
   ],
   "source": [
    "# 매개변수 1개\n",
    "print(list(map(lambda x: x**2, ex)))\n",
    "\n",
    "# 매개변수 2개\n",
    "print(list(map(lambda x, y: x+y, ex, ex)))"
   ]
  },
  {
   "cell_type": "code",
   "execution_count": 30,
   "metadata": {},
   "outputs": [
    {
     "name": "stdout",
     "output_type": "stream",
     "text": [
      "[1, 4, 3, 16, 5]\n"
     ]
    }
   ],
   "source": [
    "print(list(map(lambda x: x**2 if x % 2 == 0 else x, ex)))"
   ]
  },
  {
   "cell_type": "markdown",
   "metadata": {},
   "source": [
    "하지만 python3에서는 편하게 이렇게 가능하기 때문에 lambda를 굳이 안써도 되긴 하다."
   ]
  },
  {
   "cell_type": "code",
   "execution_count": 31,
   "metadata": {},
   "outputs": [
    {
     "name": "stdout",
     "output_type": "stream",
     "text": [
      "[1, 4, 9, 16, 25]\n"
     ]
    }
   ],
   "source": [
    "print([value ** 2 for value in ex])"
   ]
  },
  {
   "cell_type": "markdown",
   "metadata": {},
   "source": [
    "하지만 if, else로 조금 더 길게 사용하려면 에러가 뜬다."
   ]
  },
  {
   "cell_type": "code",
   "execution_count": 32,
   "metadata": {
    "scrolled": true
   },
   "outputs": [
    {
     "ename": "SyntaxError",
     "evalue": "invalid syntax (<ipython-input-32-57828936a69d>, line 1)",
     "output_type": "error",
     "traceback": [
      "\u001b[0;36m  File \u001b[0;32m\"<ipython-input-32-57828936a69d>\"\u001b[0;36m, line \u001b[0;32m1\u001b[0m\n\u001b[0;31m    print([value ** 2 for value in ex if value % 2 == 0 else value])\u001b[0m\n\u001b[0m                                                           ^\u001b[0m\n\u001b[0;31mSyntaxError\u001b[0m\u001b[0;31m:\u001b[0m invalid syntax\n"
     ]
    }
   ],
   "source": [
    "print([value ** 2 for value in ex if value % 2 == 0 else value])"
   ]
  },
  {
   "cell_type": "markdown",
   "metadata": {},
   "source": [
    "## Reduce function\n",
    "\n",
    "- map function과 달리 list에 똑같은 함수를 적용해서 합침"
   ]
  },
  {
   "cell_type": "code",
   "execution_count": 33,
   "metadata": {},
   "outputs": [
    {
     "name": "stdout",
     "output_type": "stream",
     "text": [
      "15\n"
     ]
    }
   ],
   "source": [
    "from functools import reduce\n",
    "\n",
    "print(reduce(lambda x, y: x+y, [1,2,3,4,5]))"
   ]
  },
  {
   "cell_type": "code",
   "execution_count": 34,
   "metadata": {},
   "outputs": [
    {
     "name": "stdout",
     "output_type": "stream",
     "text": [
      "15\n"
     ]
    }
   ],
   "source": [
    "def factorial(n):\n",
    "    return reduce(lambda x, y:x+y, range(1, n+1))\n",
    "\n",
    "print(factorial(5))"
   ]
  },
  {
   "cell_type": "markdown",
   "metadata": {},
   "source": [
    "## Summary\n",
    "\n",
    "- Lambda, map, reduce는 간단한 코드로 다양한 기능을 제공\n",
    "- 그러나 코드의 직관성이 떨어져서 lambda나 reduce는 python3에서 사용을 권장하지 않음\n",
    "- Legacy library나 다양한 머신러닝 코드에서 여전히 사용중"
   ]
  },
  {
   "cell_type": "markdown",
   "metadata": {},
   "source": [
    "---"
   ]
  },
  {
   "cell_type": "markdown",
   "metadata": {},
   "source": [
    "# 5. Asterisk\n",
    "\n",
    "- 흔히 알고 있는 $*$를 의미함\n",
    "- 단순 곱셈, 제곱연산, 가변 인자 활용 등 다양하게 사용됨"
   ]
  },
  {
   "cell_type": "markdown",
   "metadata": {},
   "source": [
    "## $*$args"
   ]
  },
  {
   "cell_type": "code",
   "execution_count": 35,
   "metadata": {},
   "outputs": [
    {
     "name": "stdout",
     "output_type": "stream",
     "text": [
      "1 (2, 3, 4, 5, 6)\n",
      "<class 'tuple'>\n"
     ]
    }
   ],
   "source": [
    "def asterisk_test(a, *args):\n",
    "    print(a, args)\n",
    "    print(type(args))\n",
    "\n",
    "asterisk_test(1,2,3,4,5,6)"
   ]
  },
  {
   "cell_type": "markdown",
   "metadata": {},
   "source": [
    "## $**$kargs"
   ]
  },
  {
   "cell_type": "code",
   "execution_count": 36,
   "metadata": {},
   "outputs": [
    {
     "name": "stdout",
     "output_type": "stream",
     "text": [
      "1 {'b': 2, 'c': 3, 'd': 4, 'e': 5, 'f': 6}\n",
      "<class 'dict'>\n"
     ]
    }
   ],
   "source": [
    "def asterisk_test(a, **kargs):\n",
    "    print(a, kargs)\n",
    "    print(type(kargs))\n",
    "\n",
    "asterisk_test(1, b=2, c=3, d=4, e=5, f=6)"
   ]
  },
  {
   "cell_type": "markdown",
   "metadata": {},
   "source": [
    "## Asterisk = unpacking a container\n",
    "\n",
    "- tuple, dict 등 자료형에 들어가 있는 값을 unpacking\n",
    "- 함수의 입력값, zip 등에 유용하게 사용가능"
   ]
  },
  {
   "cell_type": "code",
   "execution_count": 37,
   "metadata": {},
   "outputs": [
    {
     "name": "stdout",
     "output_type": "stream",
     "text": [
      "1 (2, 3, 4, 5, 6)\n",
      "<class 'tuple'>\n"
     ]
    }
   ],
   "source": [
    "def asterisk_test(a, *args):\n",
    "    print(a, args[0])\n",
    "    print(type(args))\n",
    "\n",
    "asterisk_test(1, (2, 3, 4, 5, 6))"
   ]
  },
  {
   "cell_type": "markdown",
   "metadata": {},
   "source": [
    "위와 같이 (2,3,4,5,6) 인수들이 한꺼번에 들어가기 때문에 args[0]으로 해야 값이 잘 나온다. 아래처럼 [0]을 안해주면 ()가 하나 더 붙어서 나온다."
   ]
  },
  {
   "cell_type": "code",
   "execution_count": 38,
   "metadata": {},
   "outputs": [
    {
     "name": "stdout",
     "output_type": "stream",
     "text": [
      "1 (2, 3, 4, 5, 6)\n",
      "<class 'tuple'>\n"
     ]
    }
   ],
   "source": [
    "def asterisk_test(a, *args):\n",
    "    print(a, args[0])\n",
    "    print(type(args))\n",
    "\n",
    "asterisk_test(1, (2, 3, 4, 5, 6))"
   ]
  },
  {
   "cell_type": "code",
   "execution_count": 39,
   "metadata": {},
   "outputs": [
    {
     "name": "stdout",
     "output_type": "stream",
     "text": [
      "1 ((2, 3, 4, 5, 6),)\n",
      "<class 'tuple'>\n"
     ]
    }
   ],
   "source": [
    "def asterisk_test(a, *args):\n",
    "    print(a, args)\n",
    "    print(type(args))\n",
    "\n",
    "asterisk_test(1, (2, 3, 4, 5, 6))"
   ]
  },
  {
   "cell_type": "markdown",
   "metadata": {},
   "source": [
    "아래와 같이 들어갈 때 다 넣고 풀어줄 수도 있다. 다시말해 $*$를 함으로써 unpacking이 된다.($*$를 통해 각각의 변수로 풀려지게 된다.)"
   ]
  },
  {
   "cell_type": "code",
   "execution_count": 40,
   "metadata": {},
   "outputs": [
    {
     "name": "stdout",
     "output_type": "stream",
     "text": [
      "1 2 3 4 5 6\n",
      "<class 'tuple'>\n"
     ]
    }
   ],
   "source": [
    "def asterisk_test(a, args):\n",
    "    print(a, *args)\n",
    "    print(type(args))\n",
    "\n",
    "asterisk_test(1, (2,3,4,5,6))"
   ]
  },
  {
   "cell_type": "markdown",
   "metadata": {},
   "source": [
    "또 다른 형태들을 살펴보자."
   ]
  },
  {
   "cell_type": "code",
   "execution_count": 41,
   "metadata": {},
   "outputs": [
    {
     "name": "stdout",
     "output_type": "stream",
     "text": [
      "[1, 2] [3, 4] [5, 6]\n",
      "[1, 2] [3, 4] [5, 6]\n"
     ]
    }
   ],
   "source": [
    "a, b, c = ([1, 2], [3, 4], [5, 6])\n",
    "print(a, b, c)\n",
    "\n",
    "data = ([1, 2], [3, 4], [5, 6])\n",
    "print(*data)"
   ]
  },
  {
   "cell_type": "code",
   "execution_count": 42,
   "metadata": {},
   "outputs": [
    {
     "name": "stdout",
     "output_type": "stream",
     "text": [
      "10 3 2 1\n"
     ]
    }
   ],
   "source": [
    "def asterisk_test(a, b, c, d):\n",
    "    print(a, b, c, d)\n",
    "    \n",
    "data = {\"d\":1, \"c\":2, \"b\":3}\n",
    "asterisk_test(10, **data)"
   ]
  },
  {
   "cell_type": "code",
   "execution_count": 43,
   "metadata": {},
   "outputs": [
    {
     "name": "stdout",
     "output_type": "stream",
     "text": [
      "9\n",
      "12\n"
     ]
    }
   ],
   "source": [
    "for data in zip(*([1, 2], [3, 4], [5, 6])):\n",
    "    print(sum(data))"
   ]
  },
  {
   "cell_type": "code",
   "execution_count": 44,
   "metadata": {},
   "outputs": [
    {
     "name": "stdout",
     "output_type": "stream",
     "text": [
      "10 3 2 1 56\n"
     ]
    }
   ],
   "source": [
    "def asterisk_test(a, b, c, d, e=0):\n",
    "    print(a, b, c, d, e)\n",
    "\n",
    "data = {\"d\":1, \"c\":2, \"b\":3, \"e\":56}\n",
    "asterisk_test(10, **data)"
   ]
  },
  {
   "cell_type": "markdown",
   "metadata": {},
   "source": [
    "---"
   ]
  },
  {
   "cell_type": "markdown",
   "metadata": {},
   "source": [
    "# 6. Data Structure - Collections\n",
    "\n",
    "- List, Tuple, Dict에 대한 Python Built-in 확장 자료 구조(모듈)\n",
    "- 편의성, 실행 효율 등을 사용자에게 제공함\n",
    "- 아래의 모듈이 존재함\n",
    "\n",
    "~~~python\n",
    "from collections import deque\n",
    "from collections import Counter\n",
    "from collections import OrderedDict\n",
    "from collections import defaultdict\n",
    "from collections import namedtuple\n",
    "~~~"
   ]
  },
  {
   "cell_type": "markdown",
   "metadata": {},
   "source": [
    "## deque\n",
    "\n",
    "- Stack과 Queue를 지원하는 모듈\n",
    "- List에 비해 효율적인 자료 저장 방식을 지원함"
   ]
  },
  {
   "cell_type": "code",
   "execution_count": 45,
   "metadata": {},
   "outputs": [
    {
     "name": "stdout",
     "output_type": "stream",
     "text": [
      "deque([0, 1, 2, 3, 4])\n",
      "deque([10, 0, 1, 2, 3, 4])\n",
      "deque([0, 1, 2, 3, 4])\n"
     ]
    }
   ],
   "source": [
    "from collections import deque\n",
    "\n",
    "deque_list = deque()\n",
    "for i in range(5):\n",
    "    deque_list.append(i)\n",
    "    \n",
    "print(deque_list)\n",
    "\n",
    "# appendleft\n",
    "deque_list.appendleft(10)\n",
    "print(deque_list)\n",
    "\n",
    "# popleft\n",
    "deque_list.popleft()\n",
    "print(deque_list)"
   ]
  },
  {
   "cell_type": "markdown",
   "metadata": {},
   "source": [
    "- rotate, reverse등 Linked List의 특성을 지원함\n",
    "- 기존 list 형태의 함수를 모두 지원함"
   ]
  },
  {
   "cell_type": "markdown",
   "metadata": {},
   "source": [
    "### rotate"
   ]
  },
  {
   "cell_type": "code",
   "execution_count": 46,
   "metadata": {},
   "outputs": [
    {
     "name": "stdout",
     "output_type": "stream",
     "text": [
      "deque([3, 4, 0, 1, 2])\n",
      "deque([1, 2, 3, 4, 0])\n"
     ]
    }
   ],
   "source": [
    "deque_list.rotate(2)\n",
    "print(deque_list)\n",
    "\n",
    "deque_list.rotate(2)\n",
    "print(deque_list)"
   ]
  },
  {
   "cell_type": "markdown",
   "metadata": {},
   "source": [
    "### extend"
   ]
  },
  {
   "cell_type": "code",
   "execution_count": 47,
   "metadata": {},
   "outputs": [
    {
     "name": "stdout",
     "output_type": "stream",
     "text": [
      "deque([1, 2, 3, 4, 0, 5, 6, 7])\n",
      "deque([12, 11, 10, 1, 2, 3, 4, 0, 5, 6, 7])\n"
     ]
    }
   ],
   "source": [
    "deque_list.extend([5,6,7])\n",
    "print(deque_list)\n",
    "\n",
    "deque_list.extendleft([10,11,12])\n",
    "print(deque_list)"
   ]
  },
  {
   "cell_type": "markdown",
   "metadata": {},
   "source": [
    "### reversed"
   ]
  },
  {
   "cell_type": "code",
   "execution_count": 48,
   "metadata": {},
   "outputs": [
    {
     "name": "stdout",
     "output_type": "stream",
     "text": [
      "deque([12, 11, 10, 1, 2, 3, 4, 0, 5, 6, 7])\n",
      "deque([7, 6, 5, 0, 4, 3, 2, 1, 10, 11, 12])\n"
     ]
    }
   ],
   "source": [
    "print(deque_list)\n",
    "print(deque(reversed(deque_list)))"
   ]
  },
  {
   "cell_type": "markdown",
   "metadata": {},
   "source": [
    "### deque vs. list"
   ]
  },
  {
   "cell_type": "markdown",
   "metadata": {},
   "source": [
    "- deque는 기존 list보다 효율적인 자료구조를 제공\n",
    "- 효율적 메모리 구조로 처리 속도 향상"
   ]
  },
  {
   "cell_type": "code",
   "execution_count": 49,
   "metadata": {},
   "outputs": [
    {
     "name": "stdout",
     "output_type": "stream",
     "text": [
      "0.900398\n",
      "20.084934\n",
      "19.184713000000002 seconds\n"
     ]
    }
   ],
   "source": [
    "# deque\n",
    "\n",
    "from collections import deque\n",
    "import time\n",
    "\n",
    "start_time = time.process_time()\n",
    "print(start_time)\n",
    "deque_list = deque()\n",
    "\n",
    "# Stack\n",
    "for i in range(10000):\n",
    "    for i in range(10000):\n",
    "        deque_list.append(i)\n",
    "        deque_list.pop()\n",
    "        \n",
    "print(time.process_time())\n",
    "print(time.process_time() - start_time, \"seconds\")"
   ]
  },
  {
   "cell_type": "code",
   "execution_count": 50,
   "metadata": {},
   "outputs": [
    {
     "name": "stdout",
     "output_type": "stream",
     "text": [
      "20.091454\n",
      "66.840836\n",
      "46.749534 seconds\n"
     ]
    }
   ],
   "source": [
    "# general list\n",
    "\n",
    "import time\n",
    "\n",
    "start_time = time.process_time()\n",
    "print(start_time)\n",
    "just_list = []\n",
    "\n",
    "for i in range(10000):\n",
    "    for i in range(10000):\n",
    "        just_list.append(i)\n",
    "        just_list.pop()\n",
    "        \n",
    "print(time.process_time())\n",
    "print(time.process_time() - start_time, \"seconds\")"
   ]
  },
  {
   "cell_type": "markdown",
   "metadata": {},
   "source": [
    "## OrderedDict\n",
    "\n",
    "- Dict와 달리, 데이터를 입력한 순서대로 dict를 반환함"
   ]
  },
  {
   "cell_type": "code",
   "execution_count": 51,
   "metadata": {},
   "outputs": [
    {
     "name": "stdout",
     "output_type": "stream",
     "text": [
      "{'x': 100, 'y': 200, 'z': 300, 'l': 500}\n",
      "x 100\n",
      "y 200\n",
      "z 300\n",
      "l 500\n"
     ]
    }
   ],
   "source": [
    "# general\n",
    "\n",
    "# d = dict()도 가능\n",
    "d = {}\n",
    "d['x'] = 100\n",
    "d['y'] = 200\n",
    "d['z'] = 300\n",
    "d['l'] = 500\n",
    "print(d)\n",
    "\n",
    "for k, v in d.items():\n",
    "    print(k, v)"
   ]
  },
  {
   "cell_type": "code",
   "execution_count": 52,
   "metadata": {},
   "outputs": [
    {
     "name": "stdout",
     "output_type": "stream",
     "text": [
      "OrderedDict([('x', 100), ('y', 200), ('z', 300), ('l', 500)])\n",
      "x 100\n",
      "y 200\n",
      "z 300\n",
      "l 500\n"
     ]
    }
   ],
   "source": [
    "# ordereddict\n",
    "\n",
    "from collections import OrderedDict\n",
    "\n",
    "d = OrderedDict()\n",
    "d['x'] = 100\n",
    "d['y'] = 200\n",
    "d['z'] = 300\n",
    "d['l'] = 500\n",
    "print(d)\n",
    "\n",
    "for k, v in d.items():\n",
    "    print(k, v)"
   ]
  },
  {
   "cell_type": "markdown",
   "metadata": {},
   "source": [
    "하지만 Python 3.6+부터 dict가 삽입 순서를 보존함. 위의 두 코드가 항상 같은 결과를 준다는 뜻. 쉽게말해 순서가 보존이 안되었는데 3.6+부터는 OrderedDict와 Dict가 같아진 것이라고 봐도 된다. \n",
    "\n",
    "[Are dictionaries ordered in Python 3.6+?](https://stackoverflow.com/questions/39980323/are-dictionaries-ordered-in-python-3-6)를 참고하기 바란다."
   ]
  },
  {
   "cell_type": "markdown",
   "metadata": {},
   "source": [
    "다음은 소트할 때 일반적인 Dict를 통해 쓰이는 방법들이다."
   ]
  },
  {
   "cell_type": "code",
   "execution_count": 53,
   "metadata": {},
   "outputs": [
    {
     "name": "stdout",
     "output_type": "stream",
     "text": [
      "l 500\n",
      "x 100\n",
      "y 200\n",
      "z 300\n"
     ]
    }
   ],
   "source": [
    "d = dict()\n",
    "d['x'] = 100\n",
    "d['y'] = 200\n",
    "d['z'] = 300\n",
    "d['l'] = 500\n",
    "\n",
    "for k, v in dict(sorted(d.items(), key=lambda t: t[0])).items():\n",
    "    print(k, v)"
   ]
  },
  {
   "cell_type": "code",
   "execution_count": 54,
   "metadata": {},
   "outputs": [
    {
     "name": "stdout",
     "output_type": "stream",
     "text": [
      "l 500\n",
      "z 300\n",
      "y 200\n",
      "x 100\n"
     ]
    }
   ],
   "source": [
    "for k, v in dict(sorted(d.items(),\n",
    "                        reverse=True, key=lambda t: t[1])).items():\n",
    "    print(k, v)"
   ]
  },
  {
   "cell_type": "markdown",
   "metadata": {},
   "source": [
    "보다시피 그냥 dict()만 써도 잘 된다. 그래서 OrderedDict는 딱히 필요가 없을 것 같다."
   ]
  },
  {
   "cell_type": "markdown",
   "metadata": {},
   "source": [
    "## defaultdict\n",
    "\n",
    "- Dict type의 값을 기본 값을 지정, 신규값 생성시 사용하는 방법"
   ]
  },
  {
   "cell_type": "code",
   "execution_count": 55,
   "metadata": {},
   "outputs": [
    {
     "ename": "KeyError",
     "evalue": "'first'",
     "output_type": "error",
     "traceback": [
      "\u001b[0;31m---------------------------------------------------------------------------\u001b[0m",
      "\u001b[0;31mKeyError\u001b[0m                                  Traceback (most recent call last)",
      "\u001b[0;32m<ipython-input-55-3b4ee8f5b4c3>\u001b[0m in \u001b[0;36m<module>\u001b[0;34m()\u001b[0m\n\u001b[1;32m      1\u001b[0m \u001b[0md\u001b[0m \u001b[0;34m=\u001b[0m \u001b[0mdict\u001b[0m\u001b[0;34m(\u001b[0m\u001b[0;34m)\u001b[0m\u001b[0;34m\u001b[0m\u001b[0m\n\u001b[0;32m----> 2\u001b[0;31m \u001b[0mprint\u001b[0m\u001b[0;34m(\u001b[0m\u001b[0md\u001b[0m\u001b[0;34m[\u001b[0m\u001b[0;34m\"first\"\u001b[0m\u001b[0;34m]\u001b[0m\u001b[0;34m)\u001b[0m\u001b[0;34m\u001b[0m\u001b[0m\n\u001b[0m",
      "\u001b[0;31mKeyError\u001b[0m: 'first'"
     ]
    }
   ],
   "source": [
    "d = dict()\n",
    "print(d[\"first\"])"
   ]
  },
  {
   "cell_type": "markdown",
   "metadata": {},
   "source": [
    "아무것도 없는 상태에서 'first'라고 하는 key값을 print하면 당연히 에러가 나온다."
   ]
  },
  {
   "cell_type": "code",
   "execution_count": 56,
   "metadata": {},
   "outputs": [
    {
     "name": "stdout",
     "output_type": "stream",
     "text": [
      "0\n"
     ]
    }
   ],
   "source": [
    "from collections import defaultdict\n",
    "\n",
    "d = defaultdict(object)     # Default dictionary를 생성\n",
    "d = defaultdict(lambda: 0)  # Default 값을 0으로 설정합\n",
    "print(d[\"first\"])"
   ]
  },
  {
   "cell_type": "markdown",
   "metadata": {},
   "source": [
    "위의 코드와 같이 default 값을 lambda를 통해 0으로 지정해줄 수 있다."
   ]
  },
  {
   "cell_type": "markdown",
   "metadata": {},
   "source": [
    "실제 글을 통해서 일반적인 코드와 defaultdict의 차이점을 알아보자."
   ]
  },
  {
   "cell_type": "code",
   "execution_count": 57,
   "metadata": {},
   "outputs": [],
   "source": [
    "# general \n",
    "\n",
    "text = \"\"\"\n",
    "A press release is the quickest and easiest way to get free publicity. If well written, a press release can result in multiple published articles about your firm and its products. And that can mean new prospects contacting you asking you to sell to them. Talk about low-hanging fruit!\n",
    "What's more, press releases are cost effective. If the release results in an article that (for instance) appears to recommend your firm or your product, that article is more likely to drive prospects to contact you than a comparable paid advertisement.\n",
    "However, most press releases never accomplish that. Most press releases are just spray and pray. Nobody reads them, least of all the reporters and editors for whom they're intended. Worst case, a badly-written press release simply makes your firm look clueless and stupid.\n",
    "For example, a while back I received a press release containing the following sentence: \"Release 6.0 doubles the level of functionality available, providing organizations of all sizes with a fast-to-deploy, highly robust, and easy-to-use solution to better acquire, retain, and serve customers.\"\n",
    "Translation: \"The new release does more stuff.\" Why the extra verbiage? As I explained in the post \"Why Marketers Speak Biz Blab\", the BS words are simply a way to try to make something unimportant seem important. And, let's face it, a 6.0 release of a product probably isn't all that important.\n",
    "As a reporter, my immediate response to that press release was that it's not important because it expended an entire sentence saying absolutely nothing. And I assumed (probably rightly) that the company's marketing team was a bunch of idiots.\n",
    "\"\"\".lower().split()\n",
    "\n",
    "word_count = {}\n",
    "for word in text:\n",
    "    if word in word_count.keys():\n",
    "        word_count[word] += 1\n",
    "    else:\n",
    "        word_count[word] = 0\n",
    "# print(word_count)"
   ]
  },
  {
   "cell_type": "code",
   "execution_count": 58,
   "metadata": {},
   "outputs": [
    {
     "name": "stdout",
     "output_type": "stream",
     "text": [
      "a 12\n",
      "to 10\n",
      "the 9\n",
      "and 9\n",
      "press 8\n",
      "release 8\n",
      "that 7\n",
      "of 5\n",
      "your 4\n",
      "in 3\n",
      "firm 3\n",
      "you 3\n",
      "releases 3\n",
      "are 3\n",
      "all 3\n",
      "i 3\n",
      "is 2\n",
      "way 2\n",
      "if 2\n",
      "can 2\n",
      "about 2\n",
      "new 2\n",
      "prospects 2\n",
      "an 2\n",
      "article 2\n",
      "more 2\n",
      "most 2\n",
      "for 2\n",
      "simply 2\n",
      "6.0 2\n",
      "as 2\n",
      "important. 2\n",
      "was 2\n",
      "quickest 1\n",
      "easiest 1\n",
      "get 1\n",
      "free 1\n",
      "publicity. 1\n",
      "well 1\n",
      "written, 1\n",
      "result 1\n",
      "multiple 1\n",
      "published 1\n",
      "articles 1\n",
      "its 1\n",
      "products. 1\n",
      "mean 1\n",
      "contacting 1\n",
      "asking 1\n",
      "sell 1\n",
      "them. 1\n",
      "talk 1\n",
      "low-hanging 1\n",
      "fruit! 1\n",
      "what's 1\n",
      "more, 1\n",
      "cost 1\n",
      "effective. 1\n",
      "results 1\n",
      "(for 1\n",
      "instance) 1\n",
      "appears 1\n",
      "recommend 1\n",
      "or 1\n",
      "product, 1\n",
      "likely 1\n",
      "drive 1\n",
      "contact 1\n",
      "than 1\n",
      "comparable 1\n",
      "paid 1\n",
      "advertisement. 1\n",
      "however, 1\n",
      "never 1\n",
      "accomplish 1\n",
      "that. 1\n",
      "just 1\n",
      "spray 1\n",
      "pray. 1\n",
      "nobody 1\n",
      "reads 1\n",
      "them, 1\n",
      "least 1\n",
      "reporters 1\n",
      "editors 1\n",
      "whom 1\n",
      "they're 1\n",
      "intended. 1\n",
      "worst 1\n",
      "case, 1\n",
      "badly-written 1\n",
      "makes 1\n",
      "look 1\n",
      "clueless 1\n",
      "stupid. 1\n",
      "example, 1\n",
      "while 1\n",
      "back 1\n",
      "received 1\n",
      "containing 1\n",
      "following 1\n",
      "sentence: 1\n",
      "\"release 1\n",
      "doubles 1\n",
      "level 1\n",
      "functionality 1\n",
      "available, 1\n",
      "providing 1\n",
      "organizations 1\n",
      "sizes 1\n",
      "with 1\n",
      "fast-to-deploy, 1\n",
      "highly 1\n",
      "robust, 1\n",
      "easy-to-use 1\n",
      "solution 1\n",
      "better 1\n",
      "acquire, 1\n",
      "retain, 1\n",
      "serve 1\n",
      "customers.\" 1\n",
      "translation: 1\n",
      "\"the 1\n",
      "does 1\n",
      "stuff.\" 1\n",
      "why 1\n",
      "extra 1\n",
      "verbiage? 1\n",
      "explained 1\n",
      "post 1\n",
      "\"why 1\n",
      "marketers 1\n",
      "speak 1\n",
      "biz 1\n",
      "blab\", 1\n",
      "bs 1\n",
      "words 1\n",
      "try 1\n",
      "make 1\n",
      "something 1\n",
      "unimportant 1\n",
      "seem 1\n",
      "and, 1\n",
      "let's 1\n",
      "face 1\n",
      "it, 1\n",
      "product 1\n",
      "probably 1\n",
      "isn't 1\n",
      "reporter, 1\n",
      "my 1\n",
      "immediate 1\n",
      "response 1\n",
      "it's 1\n",
      "not 1\n",
      "important 1\n",
      "because 1\n",
      "it 1\n",
      "expended 1\n",
      "entire 1\n",
      "sentence 1\n",
      "saying 1\n",
      "absolutely 1\n",
      "nothing. 1\n",
      "assumed 1\n",
      "(probably 1\n",
      "rightly) 1\n",
      "company's 1\n",
      "marketing 1\n",
      "team 1\n",
      "bunch 1\n",
      "idiots. 1\n"
     ]
    }
   ],
   "source": [
    "# defaultdict\n",
    "\n",
    "from collections import defaultdict\n",
    "\n",
    "word_count = defaultdict(object)     # Default dictionary를 생성\n",
    "word_count = defaultdict(lambda: 0)  # Default 값을 0으로 설정합\n",
    "for word in text:\n",
    "    word_count[word] += 1\n",
    "# print(word_count)\n",
    "\n",
    "# sort\n",
    "for i, v in dict(sorted(\n",
    "        word_count.items(), key=lambda t: t[1], reverse=True)).items():\n",
    "    print(i, v)"
   ]
  },
  {
   "cell_type": "markdown",
   "metadata": {},
   "source": [
    "## Counter\n",
    "\n",
    "- Sequence type의 data element들의 갯수를 dict 형태로 반환"
   ]
  },
  {
   "cell_type": "code",
   "execution_count": 59,
   "metadata": {},
   "outputs": [
    {
     "name": "stdout",
     "output_type": "stream",
     "text": [
      "Counter({'a': 3, 'l': 2, 'g': 1, 'h': 1, 'd': 1})\n"
     ]
    }
   ],
   "source": [
    "from collections import Counter\n",
    "\n",
    "c = Counter()\n",
    "c = Counter('gallahad')\n",
    "print(c)"
   ]
  },
  {
   "cell_type": "markdown",
   "metadata": {},
   "source": [
    "## namedtuple\n",
    "\n",
    "- Tuple 형태로 Data 구조체를 저장하는 방법\n",
    "- 저장되는 data의 variable을 사전에 지정해서 저장함"
   ]
  },
  {
   "cell_type": "code",
   "execution_count": 60,
   "metadata": {},
   "outputs": [
    {
     "name": "stdout",
     "output_type": "stream",
     "text": [
      "33\n"
     ]
    }
   ],
   "source": [
    "from collections import namedtuple\n",
    "\n",
    "Point = namedtuple('Point', ['x', 'y'])\n",
    "p = Point(11, y=22)\n",
    "print(p[0] + p[1])"
   ]
  },
  {
   "cell_type": "code",
   "execution_count": 61,
   "metadata": {},
   "outputs": [
    {
     "name": "stdout",
     "output_type": "stream",
     "text": [
      "11 22\n",
      "33\n",
      "Point(x=11, y=22)\n",
      "33\n"
     ]
    }
   ],
   "source": [
    "x, y = p\n",
    "\n",
    "print(x, y)\n",
    "print(p.x + p.y)\n",
    "print(Point(x=11, y=22))\n",
    "print(p[0] + p[1])"
   ]
  },
  {
   "cell_type": "markdown",
   "metadata": {},
   "source": [
    "---"
   ]
  },
  {
   "cell_type": "markdown",
   "metadata": {},
   "source": [
    "# 6. Linear algebra codes"
   ]
  },
  {
   "cell_type": "markdown",
   "metadata": {},
   "source": [
    "## Vector representation of python\n",
    "\n",
    "- Vector를 파이썬으로 표시하는 다양한 방법 존재"
   ]
  },
  {
   "cell_type": "code",
   "execution_count": 62,
   "metadata": {},
   "outputs": [],
   "source": [
    "vector_a = [1,2,10] # list로 표현했을 경우\n",
    "vector_b = (1,2,10) # tuple로 표현했을 경우\n",
    "vector_c = {'x': 1, 'y': 1, 'z': 10} # dict로 표현했을 경우"
   ]
  },
  {
   "cell_type": "markdown",
   "metadata": {},
   "source": [
    "- 최선의 방법은 없음\n",
    "- 값의 변경 유무, 속성값 유무에 따라 선택할 수 있음\n",
    "- 기본적으로 listfh vector 연산 실시"
   ]
  },
  {
   "cell_type": "markdown",
   "metadata": {},
   "source": [
    "### Vector product"
   ]
  },
  {
   "cell_type": "code",
   "execution_count": 63,
   "metadata": {},
   "outputs": [
    {
     "name": "stdout",
     "output_type": "stream",
     "text": [
      "[7, 10]\n"
     ]
    }
   ],
   "source": [
    "u = [2, 2]\n",
    "v = [2, 3]\n",
    "z = [3, 5]\n",
    "\n",
    "result = [sum(t) for t in zip(u, v, z)]\n",
    "print(result)"
   ]
  },
  {
   "cell_type": "markdown",
   "metadata": {},
   "source": [
    "### Scalar-Vector product"
   ]
  },
  {
   "cell_type": "code",
   "execution_count": 64,
   "metadata": {},
   "outputs": [
    {
     "name": "stdout",
     "output_type": "stream",
     "text": [
      "[10, 12, 14]\n"
     ]
    }
   ],
   "source": [
    "u = [1, 2, 3]\n",
    "v = [4, 4, 4]\n",
    "alpha = 2\n",
    "\n",
    "result = [alpha*sum(t) for t in zip(u, v)]\n",
    "print(result)"
   ]
  },
  {
   "cell_type": "markdown",
   "metadata": {},
   "source": [
    "## Matrix representation of python\n",
    "\n",
    "- Matrix 역시 Python으로 표시하는 다양한 방법이 존재"
   ]
  },
  {
   "cell_type": "code",
   "execution_count": 65,
   "metadata": {},
   "outputs": [],
   "source": [
    "maxtrix_a = [[3, 6], [4, 5]] # list로 표현했을 경우\n",
    "maxtrix_b = [(3, 6), (4, 5)] # Tuple로 표현했을 경우\n",
    "maxtrix_c = {(0,0): 3, (0,1): 6, (1,0): 4, (1,1): 5} # dict로 표현했을 경우"
   ]
  },
  {
   "cell_type": "markdown",
   "metadata": {},
   "source": [
    "- 특히 dict로 표현할 때는 무궁무진한 방법이 있음\n",
    "- 기본적으로 two-dimensional list 형태로 표현함\n",
    "- 항상 [[1번째 row]. [2번째 row]. [3번쨰 row]] 형태로 표현함"
   ]
  },
  {
   "cell_type": "markdown",
   "metadata": {},
   "source": [
    "### Matrix addition"
   ]
  },
  {
   "cell_type": "code",
   "execution_count": 66,
   "metadata": {},
   "outputs": [
    {
     "name": "stdout",
     "output_type": "stream",
     "text": [
      "[[8, 14], [10, 12]]\n",
      "<class 'list'>\n"
     ]
    }
   ],
   "source": [
    "matrix_a = [[3, 6], [4, 5]]\n",
    "matrix_b = [[5, 8], [6, 7]]\n",
    "\n",
    "result = [[sum(row) for row in zip(*t)]\n",
    "          for t in zip(matrix_a, matrix_b)]\n",
    "print(result)\n",
    "print(type(result))"
   ]
  },
  {
   "cell_type": "markdown",
   "metadata": {},
   "source": [
    "처음에 'zip(matrix_a, matrix_b)'를 통해 [3,6], [5,8]이 tuple 형태로 나오고 't'에 안착한 뒤에 그 안에 있는 'zip($*$t)'를 통해 tuple 형태가 없어지고(unpacking) row를 통해 '3+5, 6+8'가 계산된 뒤에 result에 list 형태로 들어가게 된다."
   ]
  },
  {
   "cell_type": "markdown",
   "metadata": {},
   "source": [
    "### Scalar-Matrix Product"
   ]
  },
  {
   "cell_type": "code",
   "execution_count": 67,
   "metadata": {},
   "outputs": [
    {
     "name": "stdout",
     "output_type": "stream",
     "text": [
      "[[12, 24], [16, 20]]\n"
     ]
    }
   ],
   "source": [
    "matrix_a = [[3, 6], [4, 5]]\n",
    "alpha = 4\n",
    "\n",
    "result = [[alpha * element for element in t] for t in matrix_a]\n",
    "print(result)"
   ]
  },
  {
   "cell_type": "markdown",
   "metadata": {},
   "source": [
    "### Matrix Transpose"
   ]
  },
  {
   "cell_type": "code",
   "execution_count": 68,
   "metadata": {},
   "outputs": [
    {
     "name": "stdout",
     "output_type": "stream",
     "text": [
      "[[1, 4], [2, 5], [3, 6]]\n"
     ]
    }
   ],
   "source": [
    "matrix_a = [[1, 2, 3], [4, 5, 6]]\n",
    "\n",
    "result = [[element for element in t] for t in zip(*matrix_a)]\n",
    "print(result)"
   ]
  },
  {
   "cell_type": "markdown",
   "metadata": {},
   "source": [
    "위에서도 $*$를 통해 1,2,3 / 4,5,6 형태 순수 그 변수 자체로 바뀌고 zip에 따라서 1,4 / 2,5 / 3,6으로 바껴서 t에 들어가게 된다."
   ]
  },
  {
   "cell_type": "markdown",
   "metadata": {},
   "source": [
    "### Matrix Product"
   ]
  },
  {
   "cell_type": "code",
   "execution_count": 69,
   "metadata": {},
   "outputs": [
    {
     "name": "stdout",
     "output_type": "stream",
     "text": [
      "[[5, 8], [5, 6]]\n"
     ]
    }
   ],
   "source": [
    "matrix_a = [[1, 1, 2], [2, 1, 1]]\n",
    "matrix_b = [[1, 1], [2, 1], [1, 3]]\n",
    "\n",
    "result = [[sum(a * b for a, b in zip(row_a, column_b))\n",
    "          for column_b in zip(*matrix_b)] for row_a in matrix_a]\n",
    "print(result)"
   ]
  },
  {
   "cell_type": "markdown",
   "metadata": {},
   "source": [
    "---"
   ]
  },
  {
   "cell_type": "markdown",
   "metadata": {},
   "source": [
    "# 7. News Categorization\n",
    "\n",
    "- 비슷한 뉴스를 어떻게 선정할까?\n",
    "- 뉴스들이 있다면 컴퓨터는 문자를 그대로 이해하지 못하기 때문에 문자를 숫자로 바꾸어야 한다.\n",
    "- 숫자로 '유사하다'는 어떻게 표현할까? '유사하다 = 가깝다'로 표현할 수 있다. 좌표평면에서 기본적으로 쓰이는 피타고라스의 정리를 통해 두 점이 가까운지 먼지를 알 수 있다. \n",
    "- 그래서 궁극적으로 하고 싶은 것은 문자를 숫자로, 숫자는 vector로 표현하고 싶은 것이다."
   ]
  },
  {
   "cell_type": "markdown",
   "metadata": {},
   "source": [
    "## 문자 -> 숫자 -> Vector"
   ]
  },
  {
   "cell_type": "markdown",
   "metadata": {},
   "source": [
    "### 문자를 Vector로 - One-hot Encoding\n",
    "\n",
    "- 하나의 단어를 Vector의 Indox로 인식, 단어 존재시 1 없으면 0"
   ]
  },
  {
   "cell_type": "code",
   "execution_count": 70,
   "metadata": {},
   "outputs": [],
   "source": [
    "Rome = [1,0,0,0,0,0,0,0,0,0]\n",
    "Paris = [0,1,0,0,0,0,0,0,0,0]\n",
    "Italy = [0,0,1,0,0,0,0,0,0,0]\n",
    "France = [0,0,0,1,0,0,0,0,0,0]"
   ]
  },
  {
   "cell_type": "markdown",
   "metadata": {},
   "source": [
    "### Bag of words\n",
    "\n",
    "- 단어별로 인덱스를 부여해서, 한 문장(또는 문서)의 단어의 개수를 Vector로 표현"
   ]
  },
  {
   "cell_type": "markdown",
   "metadata": {},
   "source": [
    "<img src=\"img/Screen Shot 2018-08-15 at 7.17.55 PM.png\" width=\"500\">"
   ]
  },
  {
   "cell_type": "markdown",
   "metadata": {},
   "source": [
    "## 유사성"
   ]
  },
  {
   "cell_type": "markdown",
   "metadata": {},
   "source": [
    "### Distance measure\n",
    "\n",
    "- 고등학교 때 배운 2차원 평면상 거리측정 방법들"
   ]
  },
  {
   "cell_type": "markdown",
   "metadata": {},
   "source": [
    "<img src=\"img/Screen Shot 2018-08-15 at 7.20.56 PM.png\" width=\"600\">"
   ]
  },
  {
   "cell_type": "markdown",
   "metadata": {},
   "source": [
    "### Euclidian distance\n",
    "\n",
    "- 피타고라스의 정리, 두 점 사이의 직선의 거리"
   ]
  },
  {
   "cell_type": "markdown",
   "metadata": {},
   "source": [
    "<img src=\"img/Screen Shot 2018-08-15 at 7.23.17 PM.png\" width=\"600\">"
   ]
  },
  {
   "cell_type": "markdown",
   "metadata": {},
   "source": [
    "### Cosine distance\n",
    "\n",
    "- 두 점 사이의 각도"
   ]
  },
  {
   "cell_type": "markdown",
   "metadata": {},
   "source": [
    "<img src=\"img/Screen Shot 2018-08-15 at 7.23.27 PM.png\" width=\"600\">"
   ]
  },
  {
   "cell_type": "markdown",
   "metadata": {},
   "source": [
    "일반적으로 Euclidian distance보다는 Cosine distance를 더 많이 사용한다."
   ]
  },
  {
   "cell_type": "markdown",
   "metadata": {},
   "source": [
    "## Code"
   ]
  },
  {
   "cell_type": "markdown",
   "metadata": {},
   "source": [
    "### Data set\n",
    "\n",
    "- 축구와 야구 선수들의 영문 기사를 분류해보자!\n",
    "- 1,2,3,4 야구 / 5,6,7,8 축구 (news_data 폴더 참고)"
   ]
  },
  {
   "cell_type": "markdown",
   "metadata": {},
   "source": [
    "### Process\n",
    "\n",
    "- 파일을 불러오기\n",
    "- 파일을 읽어서 단어사전 (corpus) 만들기\n",
    "- 단어별로 Index 만들기\n",
    "- 만들어진 인덱스로 문서별로 Bag of words vector 생성 - 비교하고자 하는 문서 비교하기\n",
    "- 얼마나 맞는지 측정하기"
   ]
  },
  {
   "cell_type": "markdown",
   "metadata": {},
   "source": [
    "### 파일 불러오기"
   ]
  },
  {
   "cell_type": "code",
   "execution_count": 71,
   "metadata": {},
   "outputs": [
    {
     "name": "stdout",
     "output_type": "stream",
     "text": [
      "80\n",
      "80\n"
     ]
    }
   ],
   "source": [
    "import os\n",
    "\n",
    "def get_file_list(dir_name):\n",
    "    return os.listdir(dir_name)\n",
    "\n",
    "print(len(get_file_list('news_data')))\n",
    "\n",
    "if __name__ == \"__main__\":\n",
    "    dir_name = \"news_data\"\n",
    "    \n",
    "    file_list = get_file_list(dir_name)\n",
    "    file_list = [os.path.join(dir_name, file_name) \n",
    "                 for file_name in file_list]\n",
    "    print(len(file_list))"
   ]
  },
  {
   "cell_type": "markdown",
   "metadata": {},
   "source": [
    "- os.listdir\n",
    "\n",
    "os.listdir을 이용하면 해당 디렉터리에 있는 파일들의 리스트를 가져오게 된다. 여기서 구해지는 파일 리스트는 파일명만 포함되어 있으므로 경로를 포함한 파일명을 구하기 위해서는 입력으로 받은 dirname을 앞에 덧붙여 주어야 한다.\n",
    "\n",
    "- os.path.join\n",
    "\n",
    "디렉터리와 파일들을 연결하려고 할 때 사용한다. 보통 /를 통해 join을 해주지만 python에서는 os.path.join을 통해 join을 해주어야 한다. os 모듈에는 디렉터리와 파일명을 이어주는 os.path.join이라는 함수가 있으므로 이 함수를 이용하면 디렉터리를 포함한 전체 경로를 쉽게 가져올 수 있다.\n",
    "\n",
    "쉽게 말해 os.listdir을 통해 전체 파일들의 리스트를 가져와서, os.path.join을 통해 전체 경로를 연결하여 다시 전체 파일들의 리스트를 가져온다."
   ]
  },
  {
   "cell_type": "markdown",
   "metadata": {},
   "source": [
    "### 파일별로 내용읽기"
   ]
  },
  {
   "cell_type": "code",
   "execution_count": 72,
   "metadata": {},
   "outputs": [],
   "source": [
    "def get_conetents(file_list):\n",
    "    y_class = []\n",
    "    X_text = []\n",
    "\n",
    "    # baseball - 0, soccer - 1\n",
    "    class_dict = {\n",
    "        1: \"0\", 2: \"0\", 3:\"0\", 4:\"0\", 5:\"1\", 6:\"1\", 7:\"1\", 8:\"1\"}\n",
    "\n",
    "    for file_name in file_list:\n",
    "        try:\n",
    "            # cp949 - windows file (utf - mac, linux file)\n",
    "            f = open(file_name, \"r\",  encoding=\"cp949\")\n",
    "            \n",
    "            # os.sep[1] - file name only, split(\"_\")[0] - before underbar\n",
    "            # ex. 1 in 1_Dae-Ho Lee walk-off homer gives Mariners ...\n",
    "            category = int(file_name.split(os.sep)[1].split(\"_\")[0])\n",
    "            \n",
    "            # y_class is expressed as 0 class(baseball) and 1 class(soccer)\n",
    "            y_class.append(class_dict[category])\n",
    "            \n",
    "            # X_test is 1-dimensional list\n",
    "            X_text.append(f.read())\n",
    "            f.close()\n",
    "        except UnicodeDecodeError as e:\n",
    "            print(e)\n",
    "            print(file_name)\n",
    "    return X_text, y_class\n",
    "\n",
    "# test\n",
    "X_text, y_class = get_conetents(file_list)\n",
    "# print(y_class)\n",
    "# print(X_text)"
   ]
  },
  {
   "cell_type": "markdown",
   "metadata": {},
   "source": [
    "### Corpus 만들기 + 단어별 index 생성하기\n",
    "\n",
    "- Corpus란, text안에 있는 word들에 대한 index를 만들어주는 것. 각각의 word가 몇 번째 index에 속한다는 것을 선언해주는 것."
   ]
  },
  {
   "cell_type": "code",
   "execution_count": 73,
   "metadata": {},
   "outputs": [
    {
     "name": "stdout",
     "output_type": "stream",
     "text": [
      "imyours\n"
     ]
    }
   ],
   "source": [
    "# additional section\n",
    "def get_cleaned_text(text):\n",
    "    '''regular expression - eliminate meaningless sentence protection'''\n",
    "    import re\n",
    "    text = re.sub('\\W+','', text.lower() )\n",
    "    return text\n",
    "\n",
    "print(get_cleaned_text(\"I'm Yours\"))"
   ]
  },
  {
   "cell_type": "code",
   "execution_count": 74,
   "metadata": {},
   "outputs": [
    {
     "name": "stdout",
     "output_type": "stream",
     "text": [
      "Number of words : 4024\n"
     ]
    }
   ],
   "source": [
    "def get_corpus_dict(text):\n",
    "    # 2-dimensional list\n",
    "    text = [sentence.split() for sentence in text]\n",
    "    \n",
    "    # 1-dimensioal list\n",
    "    cleaned_words = [get_cleaned_text(word) \n",
    "                    for words in text for word in words]\n",
    "\n",
    "    corpus_dict = dict()\n",
    "    for i, v in enumerate(set(cleaned_words)):\n",
    "        corpus_dict[v] = i\n",
    "    return corpus_dict\n",
    "\n",
    "corpus = get_corpus_dict(X_text)\n",
    "print(\"Number of words : {0}\".format(len(corpus)))\n",
    "# print('corpus', corpus)"
   ]
  },
  {
   "cell_type": "markdown",
   "metadata": {},
   "source": [
    "위의 코드에서 set은 다음과 같은 2가지 큰 특징이 있다.\n",
    "\n",
    "- 중복을 허용하지 않는다.\n",
    "- 순서가 없다(Unordered).\n",
    "\n",
    "또한 리스트나 튜플은 순서가 있기(ordered) 때문에 인덱싱을 통해 자료형의 값을 얻을 수 있지만 set 자료형은 순서가 없기(unordered) 때문에 인덱싱으로 값을 얻을 수 없다. 이는 마치 앞서 살펴본 딕셔너리와 비슷하다. 딕셔너리 역시 순서가 없는 자료형이라 인덱싱을 지원하지 않는다. 만약 set 자료형에 저장된 값을 인덱싱으로 접근하려면 다음과 같이 리스트나 튜플로 변환한 후 해야 한다."
   ]
  },
  {
   "cell_type": "markdown",
   "metadata": {},
   "source": [
    "### 문서별로 Bag of words vector 생성"
   ]
  },
  {
   "cell_type": "code",
   "execution_count": 75,
   "metadata": {},
   "outputs": [],
   "source": [
    "def get_count_vector(text, corpus):\n",
    "    text = [sentence.split() for sentence in text]\n",
    "    \n",
    "    # 2-dimensional list\n",
    "    # The value that the words in the documents correspond to\n",
    "    # the index number in the corpus.\n",
    "    word_number_list = [[corpus[get_cleaned_text(word)] \n",
    "                         for word in words] for words in text]\n",
    "#     print('corpus', corpus)\n",
    "#     print('word_number_list', word_number_list)\n",
    "    \n",
    "    # 80 x 4024 matrices\n",
    "    X_vector = [[0 for _ in range(len(corpus))] \n",
    "                for _ in range(len(text))]\n",
    "#     print(X_vector[0])\n",
    "\n",
    "    # Check the number of words in one text\n",
    "    for i, text in enumerate(word_number_list):\n",
    "        for word_number in text:\n",
    "            X_vector[i][word_number] += 1\n",
    "    return X_vector\n",
    "\n",
    "\n",
    "# corpus = get_corpus_dict(X_text)\n",
    "# print(get_count_vector(X_text, corpus))"
   ]
  },
  {
   "cell_type": "markdown",
   "metadata": {},
   "source": [
    "### 비교하기"
   ]
  },
  {
   "cell_type": "markdown",
   "metadata": {},
   "source": [
    "<img src=\"img/Screen Shot 2018-08-15 at 10.18.42 PM.png\" width=\"500\">"
   ]
  },
  {
   "cell_type": "code",
   "execution_count": 76,
   "metadata": {},
   "outputs": [],
   "source": [
    "import math\n",
    "def get_cosine_similarity(v1,v2):\n",
    "    \"compute cosine similarity of v1 to v2: (v1 dot v2)/{||v1||*||v2||)\"\n",
    "    sumxx, sumxy, sumyy = 0, 0, 0\n",
    "    for i in range(len(v1)):\n",
    "        x = v1[i]; y = v2[i]\n",
    "        sumxx += x*x\n",
    "        sumyy += y*y\n",
    "        sumxy += x*y\n",
    "    return sumxy/math.sqrt(sumxx*sumyy)"
   ]
  },
  {
   "cell_type": "markdown",
   "metadata": {},
   "source": [
    "여기서 v1, v2는 문서를 의미한다. 그러니까 얼마의 similarity score를 가지는 지를 표현하는 코드이다."
   ]
  },
  {
   "cell_type": "markdown",
   "metadata": {},
   "source": [
    "### 비교결과 정리하기"
   ]
  },
  {
   "cell_type": "code",
   "execution_count": 77,
   "metadata": {},
   "outputs": [],
   "source": [
    "def get_similarity_score(X_vector, source):\n",
    "    source_vector = X_vector[source]\n",
    "    similarity_list = []\n",
    "    for target_vector in X_vector:\n",
    "        similarity_list.append(\n",
    "            get_cosine_similarity(source_vector, target_vector))\n",
    "    return similarity_list\n",
    "\n",
    "\n",
    "def get_top_n_similarity_news(similarity_score, n):\n",
    "    import operator\n",
    "    x = {i:v for i, v in enumerate(similarity_score)}\n",
    "    sorted_x = sorted(x.items(), key=operator.itemgetter(1))\n",
    "\n",
    "    return list(reversed(sorted_x))[1:n+1]"
   ]
  },
  {
   "cell_type": "markdown",
   "metadata": {},
   "source": [
    "### 성능 측정하기"
   ]
  },
  {
   "cell_type": "code",
   "execution_count": 78,
   "metadata": {},
   "outputs": [],
   "source": [
    "def get_accuracy(similarity_list, y_class, source_news):\n",
    "    source_class = y_class[source_news]\n",
    "\n",
    "    return sum([source_class == y_class[i[0]] \n",
    "                for i in similarity_list]) / len(similarity_list)"
   ]
  },
  {
   "cell_type": "code",
   "execution_count": 79,
   "metadata": {},
   "outputs": [
    {
     "name": "stdout",
     "output_type": "stream",
     "text": [
      "Number of words : 4024\n",
      "0.7474999999999997\n"
     ]
    }
   ],
   "source": [
    "if __name__ == \"__main__\":\n",
    "    dir_name = \"news_data\"\n",
    "    file_list = get_file_list(dir_name)\n",
    "    file_list = [os.path.join(dir_name, file_name) \n",
    "                 for file_name in file_list]\n",
    "\n",
    "    X_text, y_class = get_conetents(file_list)\n",
    "\n",
    "    corpus = get_corpus_dict(X_text)\n",
    "    print(\"Number of words : {0}\".format(len(corpus)))\n",
    "    X_vector = get_count_vector(X_text, corpus)\n",
    "\n",
    "    result = []\n",
    "\n",
    "    for i in range(80):\n",
    "        source_number = i\n",
    "        \n",
    "        # 80 x 80\n",
    "        similarity_score = get_similarity_score(X_vector, source_number)\n",
    "        \n",
    "        similarity_news = get_top_n_similarity_news(similarity_score, 5)\n",
    "        \n",
    "        accuracy_score = get_accuracy(similarity_news, y_class, source_number)\n",
    "        result.append(accuracy_score)\n",
    "    print(sum(result) / 80)"
   ]
  }
 ],
 "metadata": {
  "kernelspec": {
   "display_name": "Python 3",
   "language": "python",
   "name": "python3"
  },
  "language_info": {
   "codemirror_mode": {
    "name": "ipython",
    "version": 3
   },
   "file_extension": ".py",
   "mimetype": "text/x-python",
   "name": "python",
   "nbconvert_exporter": "python",
   "pygments_lexer": "ipython3",
   "version": "3.6.5"
  }
 },
 "nbformat": 4,
 "nbformat_minor": 2
}
